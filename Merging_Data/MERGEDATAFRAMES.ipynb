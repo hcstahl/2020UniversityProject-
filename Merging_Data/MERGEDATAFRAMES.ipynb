{
 "cells": [
  {
   "cell_type": "code",
   "execution_count": 1,
   "id": "1a1679fd",
   "metadata": {},
   "outputs": [],
   "source": [
    "import pandas as pd\n",
    "import numpy as np\n",
    "from functools import reduce "
   ]
  },
  {
   "cell_type": "code",
   "execution_count": 2,
   "id": "9537c880",
   "metadata": {},
   "outputs": [],
   "source": [
    "sfa1920 = pd.read_csv(\"sfa1920.csv\")\n",
    "ef2020d= pd.read_csv(\"ef2020d.csv\")\n",
    "adm2020= pd.read_csv(\"adm2020.csv\")\n",
    "ic2020_ay= pd.read_csv(\"ic2020_ay.csv\")\n",
    "ic2020= pd.read_csv(\"ic2020.csv\")\n",
    "hd2020= pd.read_csv(\"hd2020.csv\")\n",
    "sal2020_is= pd.read_csv(\"sal2020_is.csv\")\n",
    "ic2020_2 = pd.read_csv(\"ic2020_2.csv\")\n",
    "finance = pd.read_csv(\"combinedfs.csv\")"
   ]
  },
  {
   "cell_type": "code",
   "execution_count": 4,
   "id": "f410e7de",
   "metadata": {},
   "outputs": [
    {
     "data": {
      "text/html": [
       "<div>\n",
       "<style scoped>\n",
       "    .dataframe tbody tr th:only-of-type {\n",
       "        vertical-align: middle;\n",
       "    }\n",
       "\n",
       "    .dataframe tbody tr th {\n",
       "        vertical-align: top;\n",
       "    }\n",
       "\n",
       "    .dataframe thead th {\n",
       "        text-align: right;\n",
       "    }\n",
       "</style>\n",
       "<table border=\"1\" class=\"dataframe\">\n",
       "  <thead>\n",
       "    <tr style=\"text-align: right;\">\n",
       "      <th></th>\n",
       "      <th>UNITID</th>\n",
       "      <th>TUITION1</th>\n",
       "      <th>FEE1</th>\n",
       "      <th>TUITION2</th>\n",
       "      <th>FEE2</th>\n",
       "      <th>TUITION3</th>\n",
       "      <th>FEE3</th>\n",
       "      <th>CHG2AY3</th>\n",
       "      <th>CHG3AY3</th>\n",
       "      <th>CHG8AY3</th>\n",
       "      <th>CHG9AY3</th>\n",
       "    </tr>\n",
       "  </thead>\n",
       "  <tbody>\n",
       "    <tr>\n",
       "      <th>0</th>\n",
       "      <td>100654</td>\n",
       "      <td>8610</td>\n",
       "      <td>1414</td>\n",
       "      <td>8610</td>\n",
       "      <td>1414</td>\n",
       "      <td>17220</td>\n",
       "      <td>1414</td>\n",
       "      <td>10024</td>\n",
       "      <td>18634</td>\n",
       "      <td>3090</td>\n",
       "      <td>3440</td>\n",
       "    </tr>\n",
       "    <tr>\n",
       "      <th>1</th>\n",
       "      <td>100663</td>\n",
       "      <td>8568</td>\n",
       "      <td>0</td>\n",
       "      <td>8568</td>\n",
       "      <td>0</td>\n",
       "      <td>20400</td>\n",
       "      <td>0</td>\n",
       "      <td>8568</td>\n",
       "      <td>20400</td>\n",
       "      <td>5555</td>\n",
       "      <td>5555</td>\n",
       "    </tr>\n",
       "    <tr>\n",
       "      <th>2</th>\n",
       "      <td>100690</td>\n",
       "      <td>9000</td>\n",
       "      <td>950</td>\n",
       "      <td>9000</td>\n",
       "      <td>950</td>\n",
       "      <td>9000</td>\n",
       "      <td>950</td>\n",
       "      <td>6950</td>\n",
       "      <td>6950</td>\n",
       "      <td>1600</td>\n",
       "      <td>1600</td>\n",
       "    </tr>\n",
       "    <tr>\n",
       "      <th>3</th>\n",
       "      <td>100706</td>\n",
       "      <td>9730</td>\n",
       "      <td>1608</td>\n",
       "      <td>9730</td>\n",
       "      <td>1608</td>\n",
       "      <td>22126</td>\n",
       "      <td>1608</td>\n",
       "      <td>11338</td>\n",
       "      <td>23734</td>\n",
       "      <td>4076</td>\n",
       "      <td>4076</td>\n",
       "    </tr>\n",
       "    <tr>\n",
       "      <th>4</th>\n",
       "      <td>100724</td>\n",
       "      <td>8328</td>\n",
       "      <td>2740</td>\n",
       "      <td>8328</td>\n",
       "      <td>2740</td>\n",
       "      <td>16656</td>\n",
       "      <td>2740</td>\n",
       "      <td>11068</td>\n",
       "      <td>19396</td>\n",
       "      <td>4228</td>\n",
       "      <td>4228</td>\n",
       "    </tr>\n",
       "  </tbody>\n",
       "</table>\n",
       "</div>"
      ],
      "text/plain": [
       "   UNITID TUITION1  FEE1 TUITION2  FEE2 TUITION3  FEE3 CHG2AY3 CHG3AY3  \\\n",
       "0  100654     8610  1414     8610  1414    17220  1414   10024   18634   \n",
       "1  100663     8568     0     8568     0    20400     0    8568   20400   \n",
       "2  100690     9000   950     9000   950     9000   950    6950    6950   \n",
       "3  100706     9730  1608     9730  1608    22126  1608   11338   23734   \n",
       "4  100724     8328  2740     8328  2740    16656  2740   11068   19396   \n",
       "\n",
       "  CHG8AY3 CHG9AY3   \n",
       "0    3090     3440  \n",
       "1    5555     5555  \n",
       "2    1600     1600  \n",
       "3    4076     4076  \n",
       "4    4228     4228  "
      ]
     },
     "execution_count": 4,
     "metadata": {},
     "output_type": "execute_result"
    }
   ],
   "source": [
    "ic2020_ay.head()"
   ]
  },
  {
   "cell_type": "code",
   "execution_count": 3,
   "id": "0f3226e2",
   "metadata": {},
   "outputs": [
    {
     "data": {
      "text/plain": [
       "(1751, 60)"
      ]
     },
     "execution_count": 3,
     "metadata": {},
     "output_type": "execute_result"
    }
   ],
   "source": [
    "data_merge1 = reduce(lambda left, right:  \n",
    "                    pd.merge(left , right,\n",
    "                              on = [\"UNITID\"]),\n",
    "                     [ic2020,ic2020_ay ,adm2020,ef2020d,sfa1920,hd2020,sal2020_is,ic2020_2,finance])\n",
    "data_merge1.shape                         "
   ]
  },
  {
   "cell_type": "code",
   "execution_count": 5,
   "id": "b388abd3",
   "metadata": {},
   "outputs": [],
   "source": [
    "data_merg1= data_merge1.dropna(axis=0)"
   ]
  },
  {
   "cell_type": "code",
   "execution_count": 6,
   "id": "abfe4e55",
   "metadata": {},
   "outputs": [
    {
     "data": {
      "text/plain": [
       "(1751, 60)"
      ]
     },
     "execution_count": 6,
     "metadata": {},
     "output_type": "execute_result"
    }
   ],
   "source": [
    "data_merge1.shape"
   ]
  },
  {
   "cell_type": "code",
   "execution_count": 14,
   "id": "657464cc",
   "metadata": {},
   "outputs": [],
   "source": [
    "data_merge1.drop('Unnamed: 10',axis=1, inplace=True)\n",
    "data_merge1.drop('Unnamed: 11',axis=1, inplace=True)\n",
    "data_merge1.drop('Unnamed: 12',axis=1, inplace=True)\n",
    "data_merge1.drop('Unnamed: 13',axis=1, inplace=True)\n",
    "data_merge1.drop('Unnamed: 14',axis=1, inplace=True)\n",
    "data_merge1.drop('Unnamed: 15',axis=1, inplace=True)\n"
   ]
  },
  {
   "cell_type": "code",
   "execution_count": 18,
   "id": "f898e442",
   "metadata": {},
   "outputs": [
    {
     "data": {
      "text/plain": [
       "(1751, 54)"
      ]
     },
     "execution_count": 18,
     "metadata": {},
     "output_type": "execute_result"
    }
   ],
   "source": [
    "data_merge1.shape"
   ]
  },
  {
   "cell_type": "code",
   "execution_count": 19,
   "id": "ef1d794b",
   "metadata": {},
   "outputs": [],
   "source": [
    "data_merge1.to_csv(\"merged_data.csv\")\n",
    " "
   ]
  }
 ],
 "metadata": {
  "kernelspec": {
   "display_name": "Python 3",
   "language": "python",
   "name": "python3"
  },
  "language_info": {
   "codemirror_mode": {
    "name": "ipython",
    "version": 3
   },
   "file_extension": ".py",
   "mimetype": "text/x-python",
   "name": "python",
   "nbconvert_exporter": "python",
   "pygments_lexer": "ipython3",
   "version": "3.8.8"
  }
 },
 "nbformat": 4,
 "nbformat_minor": 5
}
