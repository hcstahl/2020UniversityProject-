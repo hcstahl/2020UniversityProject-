{
 "cells": [
  {
   "cell_type": "code",
   "execution_count": 1,
   "id": "546ed07d",
   "metadata": {},
   "outputs": [],
   "source": [
    "import pandas as pd\n",
    "import numpy as np\n",
    "import matplotlib.pyplot as plt\n",
    "import matplotlib as mpl\n",
    "from tabulate import tabulate\n",
    "import seaborn as sns\n",
    "%matplotlib inline"
   ]
  },
  {
   "cell_type": "code",
   "execution_count": 2,
   "id": "e00added",
   "metadata": {},
   "outputs": [],
   "source": [
    "pd.options.display.float_format = '{:,.2f}'.format"
   ]
  },
  {
   "cell_type": "code",
   "execution_count": 3,
   "id": "737b73b7",
   "metadata": {},
   "outputs": [],
   "source": [
    "data = pd.read_csv(\"data_before_vi.csv\")\n",
    "data1 = pd.read_csv(\"data_before_vi.csv\")\n",
    "data2 = pd.read_csv(\"data_before_vi.csv\")"
   ]
  },
  {
   "cell_type": "code",
   "execution_count": 4,
   "id": "ef8b5108",
   "metadata": {},
   "outputs": [
    {
     "data": {
      "text/plain": [
       "(1239, 27)"
      ]
     },
     "execution_count": 4,
     "metadata": {},
     "output_type": "execute_result"
    }
   ],
   "source": [
    "data.shape"
   ]
  },
  {
   "cell_type": "code",
   "execution_count": 5,
   "id": "f2890414",
   "metadata": {},
   "outputs": [
    {
     "data": {
      "text/html": [
       "<div>\n",
       "<style scoped>\n",
       "    .dataframe tbody tr th:only-of-type {\n",
       "        vertical-align: middle;\n",
       "    }\n",
       "\n",
       "    .dataframe tbody tr th {\n",
       "        vertical-align: top;\n",
       "    }\n",
       "\n",
       "    .dataframe thead th {\n",
       "        text-align: right;\n",
       "    }\n",
       "</style>\n",
       "<table border=\"1\" class=\"dataframe\">\n",
       "  <thead>\n",
       "    <tr style=\"text-align: right;\">\n",
       "      <th></th>\n",
       "      <th>Unnamed: 0</th>\n",
       "      <th>UNITID</th>\n",
       "      <th>TYPE</th>\n",
       "      <th>FORPROFIT</th>\n",
       "      <th>BOARD</th>\n",
       "      <th>TUITION1_INDISTRICT_UG</th>\n",
       "      <th>FEE1_INDISTRICT_UG</th>\n",
       "      <th>OFFCAMPUS_SELF_EXP</th>\n",
       "      <th>OFFCAMPUS_FAMILY_EXP</th>\n",
       "      <th>ADMS_REQUIRED_COLLEGEPREP</th>\n",
       "      <th>...</th>\n",
       "      <th>PRCENT_FLOANS_TOUG</th>\n",
       "      <th>STATE</th>\n",
       "      <th>HLOFFER</th>\n",
       "      <th>TEACHER_CERT</th>\n",
       "      <th>TUITION_GURANTEE</th>\n",
       "      <th>TOTAL_ASSETS</th>\n",
       "      <th>TOTAL_SPENT_ACADEMICSUPP</th>\n",
       "      <th>TOTAL_SPENT_STUDENTSS</th>\n",
       "      <th>STATEGRANT</th>\n",
       "      <th>LOCAL_GRANT</th>\n",
       "    </tr>\n",
       "  </thead>\n",
       "  <tbody>\n",
       "    <tr>\n",
       "      <th>0</th>\n",
       "      <td>0</td>\n",
       "      <td>100654</td>\n",
       "      <td>1</td>\n",
       "      <td>0</td>\n",
       "      <td>1</td>\n",
       "      <td>8610</td>\n",
       "      <td>1414</td>\n",
       "      <td>3090</td>\n",
       "      <td>3440</td>\n",
       "      <td>0</td>\n",
       "      <td>...</td>\n",
       "      <td>75</td>\n",
       "      <td>SOUTH</td>\n",
       "      <td>Highest_Doc</td>\n",
       "      <td>1</td>\n",
       "      <td>0</td>\n",
       "      <td>278440664</td>\n",
       "      <td>7257779</td>\n",
       "      <td>27527791</td>\n",
       "      <td>176182</td>\n",
       "      <td>0</td>\n",
       "    </tr>\n",
       "    <tr>\n",
       "      <th>1</th>\n",
       "      <td>1</td>\n",
       "      <td>100706</td>\n",
       "      <td>1</td>\n",
       "      <td>0</td>\n",
       "      <td>1</td>\n",
       "      <td>9730</td>\n",
       "      <td>1608</td>\n",
       "      <td>4076</td>\n",
       "      <td>4076</td>\n",
       "      <td>0</td>\n",
       "      <td>...</td>\n",
       "      <td>39</td>\n",
       "      <td>SOUTH</td>\n",
       "      <td>Highest_Doc</td>\n",
       "      <td>1</td>\n",
       "      <td>0</td>\n",
       "      <td>521103730</td>\n",
       "      <td>12878882</td>\n",
       "      <td>20821717</td>\n",
       "      <td>109283</td>\n",
       "      <td>0</td>\n",
       "    </tr>\n",
       "    <tr>\n",
       "      <th>2</th>\n",
       "      <td>2</td>\n",
       "      <td>100724</td>\n",
       "      <td>1</td>\n",
       "      <td>0</td>\n",
       "      <td>1</td>\n",
       "      <td>8328</td>\n",
       "      <td>2740</td>\n",
       "      <td>4228</td>\n",
       "      <td>4228</td>\n",
       "      <td>0</td>\n",
       "      <td>...</td>\n",
       "      <td>78</td>\n",
       "      <td>SOUTH</td>\n",
       "      <td>Highest_Doc</td>\n",
       "      <td>1</td>\n",
       "      <td>0</td>\n",
       "      <td>325537085</td>\n",
       "      <td>12928881</td>\n",
       "      <td>15714772</td>\n",
       "      <td>170200</td>\n",
       "      <td>0</td>\n",
       "    </tr>\n",
       "    <tr>\n",
       "      <th>3</th>\n",
       "      <td>3</td>\n",
       "      <td>100751</td>\n",
       "      <td>1</td>\n",
       "      <td>0</td>\n",
       "      <td>0</td>\n",
       "      <td>10780</td>\n",
       "      <td>840</td>\n",
       "      <td>4620</td>\n",
       "      <td>5692</td>\n",
       "      <td>1</td>\n",
       "      <td>...</td>\n",
       "      <td>36</td>\n",
       "      <td>SOUTH</td>\n",
       "      <td>Highest_Doc</td>\n",
       "      <td>1</td>\n",
       "      <td>0</td>\n",
       "      <td>4881510109</td>\n",
       "      <td>103079114</td>\n",
       "      <td>60453485</td>\n",
       "      <td>772030</td>\n",
       "      <td>0</td>\n",
       "    </tr>\n",
       "    <tr>\n",
       "      <th>4</th>\n",
       "      <td>4</td>\n",
       "      <td>100830</td>\n",
       "      <td>1</td>\n",
       "      <td>0</td>\n",
       "      <td>0</td>\n",
       "      <td>7992</td>\n",
       "      <td>868</td>\n",
       "      <td>3830</td>\n",
       "      <td>3830</td>\n",
       "      <td>0</td>\n",
       "      <td>...</td>\n",
       "      <td>54</td>\n",
       "      <td>SOUTH</td>\n",
       "      <td>Highest_Doc</td>\n",
       "      <td>1</td>\n",
       "      <td>0</td>\n",
       "      <td>184716313</td>\n",
       "      <td>4592684</td>\n",
       "      <td>7303651</td>\n",
       "      <td>105571</td>\n",
       "      <td>0</td>\n",
       "    </tr>\n",
       "  </tbody>\n",
       "</table>\n",
       "<p>5 rows × 27 columns</p>\n",
       "</div>"
      ],
      "text/plain": [
       "   Unnamed: 0  UNITID  TYPE  FORPROFIT  BOARD  TUITION1_INDISTRICT_UG  \\\n",
       "0           0  100654     1          0      1                    8610   \n",
       "1           1  100706     1          0      1                    9730   \n",
       "2           2  100724     1          0      1                    8328   \n",
       "3           3  100751     1          0      0                   10780   \n",
       "4           4  100830     1          0      0                    7992   \n",
       "\n",
       "   FEE1_INDISTRICT_UG  OFFCAMPUS_SELF_EXP  OFFCAMPUS_FAMILY_EXP  \\\n",
       "0                1414                3090                  3440   \n",
       "1                1608                4076                  4076   \n",
       "2                2740                4228                  4228   \n",
       "3                 840                4620                  5692   \n",
       "4                 868                3830                  3830   \n",
       "\n",
       "   ADMS_REQUIRED_COLLEGEPREP  ...  PRCENT_FLOANS_TOUG  STATE      HLOFFER  \\\n",
       "0                          0  ...                  75  SOUTH  Highest_Doc   \n",
       "1                          0  ...                  39  SOUTH  Highest_Doc   \n",
       "2                          0  ...                  78  SOUTH  Highest_Doc   \n",
       "3                          1  ...                  36  SOUTH  Highest_Doc   \n",
       "4                          0  ...                  54  SOUTH  Highest_Doc   \n",
       "\n",
       "   TEACHER_CERT  TUITION_GURANTEE  TOTAL_ASSETS  TOTAL_SPENT_ACADEMICSUPP  \\\n",
       "0             1                 0     278440664                   7257779   \n",
       "1             1                 0     521103730                  12878882   \n",
       "2             1                 0     325537085                  12928881   \n",
       "3             1                 0    4881510109                 103079114   \n",
       "4             1                 0     184716313                   4592684   \n",
       "\n",
       "   TOTAL_SPENT_STUDENTSS STATEGRANT LOCAL_GRANT  \n",
       "0               27527791     176182           0  \n",
       "1               20821717     109283           0  \n",
       "2               15714772     170200           0  \n",
       "3               60453485     772030           0  \n",
       "4                7303651     105571           0  \n",
       "\n",
       "[5 rows x 27 columns]"
      ]
     },
     "execution_count": 5,
     "metadata": {},
     "output_type": "execute_result"
    }
   ],
   "source": [
    "data.head()"
   ]
  },
  {
   "cell_type": "code",
   "execution_count": 6,
   "id": "cfa1e1e8",
   "metadata": {},
   "outputs": [
    {
     "data": {
      "text/plain": [
       "Index(['Unnamed: 0', 'UNITID', 'TYPE', 'FORPROFIT', 'BOARD',\n",
       "       'TUITION1_INDISTRICT_UG', 'FEE1_INDISTRICT_UG', 'OFFCAMPUS_SELF_EXP',\n",
       "       'OFFCAMPUS_FAMILY_EXP', 'ADMS_REQUIRED_COLLEGEPREP', 'NUM_APPS_ADMIT',\n",
       "       'FULLTIME_RETENTIONRATE_SPRING', 'STUD_TO_FAL_RATIO',\n",
       "       'PRCNT_FIRSTYR_UG', 'PRCNT_UG_AWARDEDAID', 'PRCNT_UG_AWARDED_PELL',\n",
       "       'TOTAL_AMOUNT_PELL_TOUG', 'PRCENT_FLOANS_TOUG', 'STATE', 'HLOFFER',\n",
       "       'TEACHER_CERT', 'TUITION_GURANTEE', 'TOTAL_ASSETS',\n",
       "       'TOTAL_SPENT_ACADEMICSUPP', 'TOTAL_SPENT_STUDENTSS', 'STATEGRANT',\n",
       "       'LOCAL_GRANT'],\n",
       "      dtype='object')"
      ]
     },
     "execution_count": 6,
     "metadata": {},
     "output_type": "execute_result"
    }
   ],
   "source": [
    "data.columns"
   ]
  },
  {
   "cell_type": "markdown",
   "id": "43894f8b",
   "metadata": {},
   "source": [
    "# droppong columns to only limit myself to 8 total independent variables"
   ]
  },
  {
   "cell_type": "code",
   "execution_count": 7,
   "id": "8d7b286f",
   "metadata": {},
   "outputs": [],
   "source": [
    "data.drop(\"Unnamed: 0\",axis=1,inplace=True)\n",
    "data.drop('OFFCAMPUS_FAMILY_EXP',axis=1,inplace=True)\n",
    "data.drop('OFFCAMPUS_SELF_EXP',axis=1,inplace=True)\n",
    "data.drop('TEACHER_CERT',axis=1,inplace=True)\n",
    "data.drop('FULLTIME_RETENTIONRATE_SPRING',axis=1,inplace=True)\n",
    "data.drop(\"STUD_TO_FAL_RATIO\",axis=1,inplace=True)\n",
    "data.drop(\"BOARD\",axis=1,inplace=True)\n",
    "data.drop(\"FORPROFIT\",axis=1,inplace=True)\n",
    "data.drop(\"ADMS_REQUIRED_COLLEGEPREP\",axis=1,inplace=True)\n",
    "data.drop(\"TUITION_GURANTEE\",axis=1,inplace=True)\n",
    "data.drop('PRCENT_FLOANS_TOUG',axis=1,inplace=True)\n",
    "data.drop(\"PRCNT_UG_AWARDED_PELL\",axis=1,inplace=True)\n",
    "data.drop('PRCNT_FIRSTYR_UG',axis=1,inplace=True)\n",
    "data.drop('PRCNT_UG_AWARDEDAID',axis=1,inplace=True)\n",
    "data.drop('TOTAL_ASSETS',axis=1,inplace=True)\n",
    "data.drop('HLOFFER',axis=1,inplace=True)"
   ]
  },
  {
   "cell_type": "code",
   "execution_count": 8,
   "id": "6d64f0c4",
   "metadata": {},
   "outputs": [
    {
     "data": {
      "text/html": [
       "<div>\n",
       "<style scoped>\n",
       "    .dataframe tbody tr th:only-of-type {\n",
       "        vertical-align: middle;\n",
       "    }\n",
       "\n",
       "    .dataframe tbody tr th {\n",
       "        vertical-align: top;\n",
       "    }\n",
       "\n",
       "    .dataframe thead th {\n",
       "        text-align: right;\n",
       "    }\n",
       "</style>\n",
       "<table border=\"1\" class=\"dataframe\">\n",
       "  <thead>\n",
       "    <tr style=\"text-align: right;\">\n",
       "      <th></th>\n",
       "      <th>UNITID</th>\n",
       "      <th>TYPE</th>\n",
       "      <th>TUITION1_INDISTRICT_UG</th>\n",
       "      <th>FEE1_INDISTRICT_UG</th>\n",
       "      <th>NUM_APPS_ADMIT</th>\n",
       "      <th>TOTAL_AMOUNT_PELL_TOUG</th>\n",
       "      <th>STATE</th>\n",
       "      <th>TOTAL_SPENT_ACADEMICSUPP</th>\n",
       "      <th>TOTAL_SPENT_STUDENTSS</th>\n",
       "      <th>STATEGRANT</th>\n",
       "      <th>LOCAL_GRANT</th>\n",
       "    </tr>\n",
       "  </thead>\n",
       "  <tbody>\n",
       "    <tr>\n",
       "      <th>0</th>\n",
       "      <td>100654</td>\n",
       "      <td>1</td>\n",
       "      <td>8610</td>\n",
       "      <td>1414</td>\n",
       "      <td>9855</td>\n",
       "      <td>19916507</td>\n",
       "      <td>SOUTH</td>\n",
       "      <td>7257779</td>\n",
       "      <td>27527791</td>\n",
       "      <td>176182</td>\n",
       "      <td>0</td>\n",
       "    </tr>\n",
       "    <tr>\n",
       "      <th>1</th>\n",
       "      <td>100706</td>\n",
       "      <td>1</td>\n",
       "      <td>9730</td>\n",
       "      <td>1608</td>\n",
       "      <td>5793</td>\n",
       "      <td>8533685</td>\n",
       "      <td>SOUTH</td>\n",
       "      <td>12878882</td>\n",
       "      <td>20821717</td>\n",
       "      <td>109283</td>\n",
       "      <td>0</td>\n",
       "    </tr>\n",
       "    <tr>\n",
       "      <th>2</th>\n",
       "      <td>100724</td>\n",
       "      <td>1</td>\n",
       "      <td>8328</td>\n",
       "      <td>2740</td>\n",
       "      <td>7027</td>\n",
       "      <td>13341998</td>\n",
       "      <td>SOUTH</td>\n",
       "      <td>12928881</td>\n",
       "      <td>15714772</td>\n",
       "      <td>170200</td>\n",
       "      <td>0</td>\n",
       "    </tr>\n",
       "    <tr>\n",
       "      <th>3</th>\n",
       "      <td>100751</td>\n",
       "      <td>1</td>\n",
       "      <td>10780</td>\n",
       "      <td>840</td>\n",
       "      <td>39560</td>\n",
       "      <td>26353781</td>\n",
       "      <td>SOUTH</td>\n",
       "      <td>103079114</td>\n",
       "      <td>60453485</td>\n",
       "      <td>772030</td>\n",
       "      <td>0</td>\n",
       "    </tr>\n",
       "    <tr>\n",
       "      <th>4</th>\n",
       "      <td>100830</td>\n",
       "      <td>1</td>\n",
       "      <td>7992</td>\n",
       "      <td>868</td>\n",
       "      <td>4606</td>\n",
       "      <td>11282206</td>\n",
       "      <td>SOUTH</td>\n",
       "      <td>4592684</td>\n",
       "      <td>7303651</td>\n",
       "      <td>105571</td>\n",
       "      <td>0</td>\n",
       "    </tr>\n",
       "  </tbody>\n",
       "</table>\n",
       "</div>"
      ],
      "text/plain": [
       "   UNITID  TYPE  TUITION1_INDISTRICT_UG  FEE1_INDISTRICT_UG  NUM_APPS_ADMIT  \\\n",
       "0  100654     1                    8610                1414            9855   \n",
       "1  100706     1                    9730                1608            5793   \n",
       "2  100724     1                    8328                2740            7027   \n",
       "3  100751     1                   10780                 840           39560   \n",
       "4  100830     1                    7992                 868            4606   \n",
       "\n",
       "   TOTAL_AMOUNT_PELL_TOUG  STATE  TOTAL_SPENT_ACADEMICSUPP  \\\n",
       "0                19916507  SOUTH                   7257779   \n",
       "1                 8533685  SOUTH                  12878882   \n",
       "2                13341998  SOUTH                  12928881   \n",
       "3                26353781  SOUTH                 103079114   \n",
       "4                11282206  SOUTH                   4592684   \n",
       "\n",
       "   TOTAL_SPENT_STUDENTSS  STATEGRANT  LOCAL_GRANT  \n",
       "0               27527791      176182            0  \n",
       "1               20821717      109283            0  \n",
       "2               15714772      170200            0  \n",
       "3               60453485      772030            0  \n",
       "4                7303651      105571            0  "
      ]
     },
     "execution_count": 8,
     "metadata": {},
     "output_type": "execute_result"
    }
   ],
   "source": [
    "data.head()"
   ]
  },
  {
   "cell_type": "code",
   "execution_count": 9,
   "id": "eebdccf7",
   "metadata": {},
   "outputs": [
    {
     "data": {
      "text/plain": [
       "(1239, 11)"
      ]
     },
     "execution_count": 9,
     "metadata": {},
     "output_type": "execute_result"
    }
   ],
   "source": [
    "data.shape"
   ]
  },
  {
   "cell_type": "markdown",
   "id": "f662f29d",
   "metadata": {},
   "source": [
    "# Seperating data types "
   ]
  },
  {
   "cell_type": "code",
   "execution_count": 10,
   "id": "c773ee4c",
   "metadata": {},
   "outputs": [],
   "source": [
    "def seperate_colnames(dataframe):\n",
    "    global catcols,numcols\n",
    "    catcols = []\n",
    "    numcols= []\n",
    "    for item in dataframe:\n",
    "        if item == \"UNITID\":\n",
    "            continue\n",
    "            #dummy variables and string values for levels \n",
    "        if dataframe[item].max() ==1 or dataframe[item].dtype ==object:\n",
    "            catcols.append(item)\n",
    "        else:\n",
    "            numcols.append(item)\n",
    "    print(numcols)\n",
    "    print()\n",
    "    print(catcols)\n",
    "            "
   ]
  },
  {
   "cell_type": "code",
   "execution_count": 11,
   "id": "aa5c3ecc",
   "metadata": {},
   "outputs": [
    {
     "name": "stdout",
     "output_type": "stream",
     "text": [
      "['TUITION1_INDISTRICT_UG', 'FEE1_INDISTRICT_UG', 'NUM_APPS_ADMIT', 'TOTAL_AMOUNT_PELL_TOUG', 'TOTAL_SPENT_ACADEMICSUPP', 'TOTAL_SPENT_STUDENTSS', 'STATEGRANT', 'LOCAL_GRANT']\n",
      "\n",
      "['TYPE', 'STATE']\n"
     ]
    }
   ],
   "source": [
    "seperate_colnames(data)"
   ]
  },
  {
   "cell_type": "code",
   "execution_count": 12,
   "id": "eaaa1dc4",
   "metadata": {},
   "outputs": [],
   "source": [
    "def numdf(dataframe):\n",
    "    global numdata\n",
    "    for col in dataframe.columns:\n",
    "        if col not in numcols:\n",
    "            col = col\n",
    "            del dataframe[col]\n",
    "    numdata = dataframe\n",
    "    return dataframe.head()\n",
    "\n",
    "\n",
    "def catdf(dataframe):\n",
    "    global catdata\n",
    "    for col in dataframe.columns:\n",
    "        if col not in catcols:\n",
    "            col = col\n",
    "            del dataframe[col]\n",
    "    catdata = dataframe\n",
    "    return dataframe.head()"
   ]
  },
  {
   "cell_type": "code",
   "execution_count": 13,
   "id": "30c76fd5",
   "metadata": {},
   "outputs": [
    {
     "data": {
      "text/html": [
       "<div>\n",
       "<style scoped>\n",
       "    .dataframe tbody tr th:only-of-type {\n",
       "        vertical-align: middle;\n",
       "    }\n",
       "\n",
       "    .dataframe tbody tr th {\n",
       "        vertical-align: top;\n",
       "    }\n",
       "\n",
       "    .dataframe thead th {\n",
       "        text-align: right;\n",
       "    }\n",
       "</style>\n",
       "<table border=\"1\" class=\"dataframe\">\n",
       "  <thead>\n",
       "    <tr style=\"text-align: right;\">\n",
       "      <th></th>\n",
       "      <th>TUITION1_INDISTRICT_UG</th>\n",
       "      <th>FEE1_INDISTRICT_UG</th>\n",
       "      <th>NUM_APPS_ADMIT</th>\n",
       "      <th>TOTAL_AMOUNT_PELL_TOUG</th>\n",
       "      <th>TOTAL_SPENT_ACADEMICSUPP</th>\n",
       "      <th>TOTAL_SPENT_STUDENTSS</th>\n",
       "      <th>STATEGRANT</th>\n",
       "      <th>LOCAL_GRANT</th>\n",
       "    </tr>\n",
       "  </thead>\n",
       "  <tbody>\n",
       "    <tr>\n",
       "      <th>0</th>\n",
       "      <td>8610</td>\n",
       "      <td>1414</td>\n",
       "      <td>9855</td>\n",
       "      <td>19916507</td>\n",
       "      <td>7257779</td>\n",
       "      <td>27527791</td>\n",
       "      <td>176182</td>\n",
       "      <td>0</td>\n",
       "    </tr>\n",
       "    <tr>\n",
       "      <th>1</th>\n",
       "      <td>9730</td>\n",
       "      <td>1608</td>\n",
       "      <td>5793</td>\n",
       "      <td>8533685</td>\n",
       "      <td>12878882</td>\n",
       "      <td>20821717</td>\n",
       "      <td>109283</td>\n",
       "      <td>0</td>\n",
       "    </tr>\n",
       "    <tr>\n",
       "      <th>2</th>\n",
       "      <td>8328</td>\n",
       "      <td>2740</td>\n",
       "      <td>7027</td>\n",
       "      <td>13341998</td>\n",
       "      <td>12928881</td>\n",
       "      <td>15714772</td>\n",
       "      <td>170200</td>\n",
       "      <td>0</td>\n",
       "    </tr>\n",
       "    <tr>\n",
       "      <th>3</th>\n",
       "      <td>10780</td>\n",
       "      <td>840</td>\n",
       "      <td>39560</td>\n",
       "      <td>26353781</td>\n",
       "      <td>103079114</td>\n",
       "      <td>60453485</td>\n",
       "      <td>772030</td>\n",
       "      <td>0</td>\n",
       "    </tr>\n",
       "    <tr>\n",
       "      <th>4</th>\n",
       "      <td>7992</td>\n",
       "      <td>868</td>\n",
       "      <td>4606</td>\n",
       "      <td>11282206</td>\n",
       "      <td>4592684</td>\n",
       "      <td>7303651</td>\n",
       "      <td>105571</td>\n",
       "      <td>0</td>\n",
       "    </tr>\n",
       "  </tbody>\n",
       "</table>\n",
       "</div>"
      ],
      "text/plain": [
       "   TUITION1_INDISTRICT_UG  FEE1_INDISTRICT_UG  NUM_APPS_ADMIT  \\\n",
       "0                    8610                1414            9855   \n",
       "1                    9730                1608            5793   \n",
       "2                    8328                2740            7027   \n",
       "3                   10780                 840           39560   \n",
       "4                    7992                 868            4606   \n",
       "\n",
       "   TOTAL_AMOUNT_PELL_TOUG  TOTAL_SPENT_ACADEMICSUPP  TOTAL_SPENT_STUDENTSS  \\\n",
       "0                19916507                   7257779               27527791   \n",
       "1                 8533685                  12878882               20821717   \n",
       "2                13341998                  12928881               15714772   \n",
       "3                26353781                 103079114               60453485   \n",
       "4                11282206                   4592684                7303651   \n",
       "\n",
       "   STATEGRANT  LOCAL_GRANT  \n",
       "0      176182            0  \n",
       "1      109283            0  \n",
       "2      170200            0  \n",
       "3      772030            0  \n",
       "4      105571            0  "
      ]
     },
     "execution_count": 13,
     "metadata": {},
     "output_type": "execute_result"
    }
   ],
   "source": [
    "numdf(data1)"
   ]
  },
  {
   "cell_type": "code",
   "execution_count": 14,
   "id": "e7fd2a43",
   "metadata": {},
   "outputs": [
    {
     "data": {
      "text/plain": [
       "(1239, 8)"
      ]
     },
     "execution_count": 14,
     "metadata": {},
     "output_type": "execute_result"
    }
   ],
   "source": [
    "numdata.shape"
   ]
  },
  {
   "cell_type": "code",
   "execution_count": 15,
   "id": "d14489a2",
   "metadata": {},
   "outputs": [
    {
     "data": {
      "text/html": [
       "<div>\n",
       "<style scoped>\n",
       "    .dataframe tbody tr th:only-of-type {\n",
       "        vertical-align: middle;\n",
       "    }\n",
       "\n",
       "    .dataframe tbody tr th {\n",
       "        vertical-align: top;\n",
       "    }\n",
       "\n",
       "    .dataframe thead th {\n",
       "        text-align: right;\n",
       "    }\n",
       "</style>\n",
       "<table border=\"1\" class=\"dataframe\">\n",
       "  <thead>\n",
       "    <tr style=\"text-align: right;\">\n",
       "      <th></th>\n",
       "      <th>TYPE</th>\n",
       "      <th>STATE</th>\n",
       "    </tr>\n",
       "  </thead>\n",
       "  <tbody>\n",
       "    <tr>\n",
       "      <th>0</th>\n",
       "      <td>1</td>\n",
       "      <td>SOUTH</td>\n",
       "    </tr>\n",
       "    <tr>\n",
       "      <th>1</th>\n",
       "      <td>1</td>\n",
       "      <td>SOUTH</td>\n",
       "    </tr>\n",
       "    <tr>\n",
       "      <th>2</th>\n",
       "      <td>1</td>\n",
       "      <td>SOUTH</td>\n",
       "    </tr>\n",
       "    <tr>\n",
       "      <th>3</th>\n",
       "      <td>1</td>\n",
       "      <td>SOUTH</td>\n",
       "    </tr>\n",
       "    <tr>\n",
       "      <th>4</th>\n",
       "      <td>1</td>\n",
       "      <td>SOUTH</td>\n",
       "    </tr>\n",
       "  </tbody>\n",
       "</table>\n",
       "</div>"
      ],
      "text/plain": [
       "   TYPE  STATE\n",
       "0     1  SOUTH\n",
       "1     1  SOUTH\n",
       "2     1  SOUTH\n",
       "3     1  SOUTH\n",
       "4     1  SOUTH"
      ]
     },
     "execution_count": 15,
     "metadata": {},
     "output_type": "execute_result"
    }
   ],
   "source": [
    "catdf(data2)"
   ]
  },
  {
   "cell_type": "code",
   "execution_count": 16,
   "id": "cf6388ed",
   "metadata": {},
   "outputs": [],
   "source": [
    "typetable=data[\"TYPE\"].value_counts()"
   ]
  },
  {
   "cell_type": "code",
   "execution_count": 17,
   "id": "54978c1d",
   "metadata": {},
   "outputs": [
    {
     "data": {
      "text/html": [
       "<div>\n",
       "<style scoped>\n",
       "    .dataframe tbody tr th:only-of-type {\n",
       "        vertical-align: middle;\n",
       "    }\n",
       "\n",
       "    .dataframe tbody tr th {\n",
       "        vertical-align: top;\n",
       "    }\n",
       "\n",
       "    .dataframe thead th {\n",
       "        text-align: right;\n",
       "    }\n",
       "</style>\n",
       "<table border=\"1\" class=\"dataframe\">\n",
       "  <thead>\n",
       "    <tr style=\"text-align: right;\">\n",
       "      <th></th>\n",
       "      <th>TYPE</th>\n",
       "    </tr>\n",
       "  </thead>\n",
       "  <tbody>\n",
       "    <tr>\n",
       "      <th>0</th>\n",
       "      <td>803</td>\n",
       "    </tr>\n",
       "    <tr>\n",
       "      <th>1</th>\n",
       "      <td>436</td>\n",
       "    </tr>\n",
       "  </tbody>\n",
       "</table>\n",
       "</div>"
      ],
      "text/plain": [
       "   TYPE\n",
       "0   803\n",
       "1   436"
      ]
     },
     "execution_count": 17,
     "metadata": {},
     "output_type": "execute_result"
    }
   ],
   "source": [
    "typetable = pd.DataFrame(typetable)\n",
    "typetable"
   ]
  },
  {
   "cell_type": "code",
   "execution_count": 18,
   "id": "57ad895e",
   "metadata": {},
   "outputs": [
    {
     "data": {
      "text/html": [
       "<div>\n",
       "<style scoped>\n",
       "    .dataframe tbody tr th:only-of-type {\n",
       "        vertical-align: middle;\n",
       "    }\n",
       "\n",
       "    .dataframe tbody tr th {\n",
       "        vertical-align: top;\n",
       "    }\n",
       "\n",
       "    .dataframe thead th {\n",
       "        text-align: right;\n",
       "    }\n",
       "</style>\n",
       "<table border=\"1\" class=\"dataframe\">\n",
       "  <thead>\n",
       "    <tr style=\"text-align: right;\">\n",
       "      <th></th>\n",
       "      <th>TYPE</th>\n",
       "    </tr>\n",
       "  </thead>\n",
       "  <tbody>\n",
       "    <tr>\n",
       "      <th>count</th>\n",
       "      <td>1,239.00</td>\n",
       "    </tr>\n",
       "    <tr>\n",
       "      <th>mean</th>\n",
       "      <td>0.35</td>\n",
       "    </tr>\n",
       "    <tr>\n",
       "      <th>std</th>\n",
       "      <td>0.48</td>\n",
       "    </tr>\n",
       "    <tr>\n",
       "      <th>min</th>\n",
       "      <td>0.00</td>\n",
       "    </tr>\n",
       "    <tr>\n",
       "      <th>25%</th>\n",
       "      <td>0.00</td>\n",
       "    </tr>\n",
       "    <tr>\n",
       "      <th>50%</th>\n",
       "      <td>0.00</td>\n",
       "    </tr>\n",
       "    <tr>\n",
       "      <th>75%</th>\n",
       "      <td>1.00</td>\n",
       "    </tr>\n",
       "    <tr>\n",
       "      <th>max</th>\n",
       "      <td>1.00</td>\n",
       "    </tr>\n",
       "  </tbody>\n",
       "</table>\n",
       "</div>"
      ],
      "text/plain": [
       "          TYPE\n",
       "count 1,239.00\n",
       "mean      0.35\n",
       "std       0.48\n",
       "min       0.00\n",
       "25%       0.00\n",
       "50%       0.00\n",
       "75%       1.00\n",
       "max       1.00"
      ]
     },
     "execution_count": 18,
     "metadata": {},
     "output_type": "execute_result"
    }
   ],
   "source": [
    "catdata.describe()"
   ]
  },
  {
   "cell_type": "code",
   "execution_count": 19,
   "id": "9c5df996",
   "metadata": {},
   "outputs": [
    {
     "data": {
      "text/plain": [
       "TYPE  STATE      \n",
       "0     SOUTH          265\n",
       "      NORTH          248\n",
       "      MidWest        205\n",
       "1     SOUTH          198\n",
       "      NORTH           86\n",
       "0     WEST            84\n",
       "1     MidWest         80\n",
       "      WEST            70\n",
       "      OtherRegion      2\n",
       "0     OtherRegion      1\n",
       "dtype: int64"
      ]
     },
     "execution_count": 19,
     "metadata": {},
     "output_type": "execute_result"
    }
   ],
   "source": [
    "catdata.value_counts()"
   ]
  },
  {
   "cell_type": "code",
   "execution_count": 20,
   "id": "f5d4fcb8",
   "metadata": {},
   "outputs": [],
   "source": [
    "from IPython.display import display_html\n",
    "from itertools import chain,cycle\n",
    "def display_side_by_side(*args,titles=cycle([''])):\n",
    "    html_str=''\n",
    "    for df,title in zip(args, chain(titles,cycle(['</br>'])) ):\n",
    "        html_str+='<th style=\"text-align:center\"><td style=\"vertical-align:top\">'\n",
    "        html_str+=f'<h2>{title}</h2>'\n",
    "        html_str+=df.to_html().replace('table','table style=\"display:inline\"')\n",
    "        html_str+='</td></th>'\n",
    "    display_html(html_str,raw=True)"
   ]
  },
  {
   "cell_type": "code",
   "execution_count": 21,
   "id": "3e077654",
   "metadata": {},
   "outputs": [],
   "source": [
    "statetable= data[\"STATE\"].value_counts()"
   ]
  },
  {
   "cell_type": "code",
   "execution_count": 22,
   "id": "86c1f369",
   "metadata": {},
   "outputs": [
    {
     "data": {
      "text/plain": [
       "count      1239\n",
       "unique        5\n",
       "top       SOUTH\n",
       "freq        463\n",
       "Name: STATE, dtype: object"
      ]
     },
     "execution_count": 22,
     "metadata": {},
     "output_type": "execute_result"
    }
   ],
   "source": [
    "data[\"STATE\"].describe()"
   ]
  },
  {
   "cell_type": "code",
   "execution_count": 23,
   "id": "60276dbf",
   "metadata": {},
   "outputs": [],
   "source": [
    "statetable = pd.DataFrame(statetable)"
   ]
  },
  {
   "cell_type": "code",
   "execution_count": 24,
   "id": "f82a7ff8",
   "metadata": {},
   "outputs": [
    {
     "data": {
      "text/html": [
       "<th style=\"text-align:center\"><td style=\"vertical-align:top\"><h2>Region</h2><table style=\"display:inline\" border=\"1\" class=\"dataframe\">\n",
       "  <thead>\n",
       "    <tr style=\"text-align: right;\">\n",
       "      <th></th>\n",
       "      <th>STATE</th>\n",
       "    </tr>\n",
       "  </thead>\n",
       "  <tbody>\n",
       "    <tr>\n",
       "      <th>SOUTH</th>\n",
       "      <td>463</td>\n",
       "    </tr>\n",
       "    <tr>\n",
       "      <th>NORTH</th>\n",
       "      <td>334</td>\n",
       "    </tr>\n",
       "    <tr>\n",
       "      <th>MidWest</th>\n",
       "      <td>285</td>\n",
       "    </tr>\n",
       "    <tr>\n",
       "      <th>WEST</th>\n",
       "      <td>154</td>\n",
       "    </tr>\n",
       "    <tr>\n",
       "      <th>OtherRegion</th>\n",
       "      <td>3</td>\n",
       "    </tr>\n",
       "  </tbody>\n",
       "</table style=\"display:inline\"></td></th><th style=\"text-align:center\"><td style=\"vertical-align:top\"><h2>Type</h2><table style=\"display:inline\" border=\"1\" class=\"dataframe\">\n",
       "  <thead>\n",
       "    <tr style=\"text-align: right;\">\n",
       "      <th></th>\n",
       "      <th>TYPE</th>\n",
       "    </tr>\n",
       "  </thead>\n",
       "  <tbody>\n",
       "    <tr>\n",
       "      <th>0</th>\n",
       "      <td>803</td>\n",
       "    </tr>\n",
       "    <tr>\n",
       "      <th>1</th>\n",
       "      <td>436</td>\n",
       "    </tr>\n",
       "  </tbody>\n",
       "</table style=\"display:inline\"></td></th>"
      ]
     },
     "metadata": {},
     "output_type": "display_data"
    }
   ],
   "source": [
    "display_side_by_side(statetable,typetable, titles=['Region','Type']) "
   ]
  },
  {
   "cell_type": "markdown",
   "id": "70afe8b9",
   "metadata": {},
   "source": [
    "# Data frames\n",
    "catdata = categorical features\n",
    "numdata = numerical features\n",
    "data = full data frame "
   ]
  },
  {
   "cell_type": "markdown",
   "id": "63ef5aaa",
   "metadata": {},
   "source": [
    "# Descriptive Stats "
   ]
  },
  {
   "cell_type": "code",
   "execution_count": 25,
   "id": "6fe9ae64",
   "metadata": {},
   "outputs": [],
   "source": [
    "stat1=round(numdata.describe(),3)\n",
    "stat1 = stat1.T\n",
    "stat1['coefvar'] =stat1['std'] / stat1['mean']\n",
    "stat1.rename(columns = {'50%': 'median'}, inplace= True)\n",
    "stat1 = stat1.loc[:, ['count', 'mean', 'median', 'std', 'coefvar', 'min', 'max']]"
   ]
  },
  {
   "cell_type": "markdown",
   "id": "82de00d5",
   "metadata": {},
   "source": [
    "# Not worried features "
   ]
  },
  {
   "cell_type": "code",
   "execution_count": 26,
   "id": "c2652811",
   "metadata": {},
   "outputs": [
    {
     "data": {
      "text/html": [
       "<div>\n",
       "<style scoped>\n",
       "    .dataframe tbody tr th:only-of-type {\n",
       "        vertical-align: middle;\n",
       "    }\n",
       "\n",
       "    .dataframe tbody tr th {\n",
       "        vertical-align: top;\n",
       "    }\n",
       "\n",
       "    .dataframe thead th {\n",
       "        text-align: right;\n",
       "    }\n",
       "</style>\n",
       "<table border=\"1\" class=\"dataframe\">\n",
       "  <thead>\n",
       "    <tr style=\"text-align: right;\">\n",
       "      <th></th>\n",
       "      <th>count</th>\n",
       "      <th>mean</th>\n",
       "      <th>median</th>\n",
       "      <th>std</th>\n",
       "      <th>coefvar</th>\n",
       "      <th>min</th>\n",
       "      <th>max</th>\n",
       "    </tr>\n",
       "  </thead>\n",
       "  <tbody>\n",
       "    <tr>\n",
       "      <th>TUITION1_INDISTRICT_UG</th>\n",
       "      <td>1,239.00</td>\n",
       "      <td>24,383.56</td>\n",
       "      <td>24,700.00</td>\n",
       "      <td>16,027.95</td>\n",
       "      <td>0.66</td>\n",
       "      <td>75.00</td>\n",
       "      <td>60,872.00</td>\n",
       "    </tr>\n",
       "    <tr>\n",
       "      <th>FEE1_INDISTRICT_UG</th>\n",
       "      <td>1,239.00</td>\n",
       "      <td>1,470.85</td>\n",
       "      <td>1,150.00</td>\n",
       "      <td>1,323.09</td>\n",
       "      <td>0.90</td>\n",
       "      <td>20.00</td>\n",
       "      <td>13,170.00</td>\n",
       "    </tr>\n",
       "    <tr>\n",
       "      <th>NUM_APPS_ADMIT</th>\n",
       "      <td>1,239.00</td>\n",
       "      <td>7,359.40</td>\n",
       "      <td>3,629.00</td>\n",
       "      <td>10,580.28</td>\n",
       "      <td>1.44</td>\n",
       "      <td>0.00</td>\n",
       "      <td>95,321.00</td>\n",
       "    </tr>\n",
       "    <tr>\n",
       "      <th>TOTAL_AMOUNT_PELL_TOUG</th>\n",
       "      <td>1,239.00</td>\n",
       "      <td>8,636,779.55</td>\n",
       "      <td>3,348,648.00</td>\n",
       "      <td>13,786,902.85</td>\n",
       "      <td>1.60</td>\n",
       "      <td>0.00</td>\n",
       "      <td>125,672,827.00</td>\n",
       "    </tr>\n",
       "    <tr>\n",
       "      <th>TOTAL_SPENT_ACADEMICSUPP</th>\n",
       "      <td>1,239.00</td>\n",
       "      <td>25,698,185.32</td>\n",
       "      <td>6,710,398.00</td>\n",
       "      <td>64,783,275.42</td>\n",
       "      <td>2.52</td>\n",
       "      <td>0.00</td>\n",
       "      <td>1,012,266,000.00</td>\n",
       "    </tr>\n",
       "    <tr>\n",
       "      <th>TOTAL_SPENT_STUDENTSS</th>\n",
       "      <td>1,239.00</td>\n",
       "      <td>19,937,941.75</td>\n",
       "      <td>11,508,007.00</td>\n",
       "      <td>29,371,563.89</td>\n",
       "      <td>1.47</td>\n",
       "      <td>0.00</td>\n",
       "      <td>439,695,909.00</td>\n",
       "    </tr>\n",
       "    <tr>\n",
       "      <th>STATEGRANT</th>\n",
       "      <td>1,239.00</td>\n",
       "      <td>31,935,348.46</td>\n",
       "      <td>14,850,000.00</td>\n",
       "      <td>58,740,256.84</td>\n",
       "      <td>1.84</td>\n",
       "      <td>0.00</td>\n",
       "      <td>711,990,000.00</td>\n",
       "    </tr>\n",
       "    <tr>\n",
       "      <th>LOCAL_GRANT</th>\n",
       "      <td>1,239.00</td>\n",
       "      <td>123,554,158.13</td>\n",
       "      <td>25,625,786.00</td>\n",
       "      <td>603,987,522.45</td>\n",
       "      <td>4.89</td>\n",
       "      <td>0.00</td>\n",
       "      <td>10,944,686,000.00</td>\n",
       "    </tr>\n",
       "  </tbody>\n",
       "</table>\n",
       "</div>"
      ],
      "text/plain": [
       "                            count           mean        median            std  \\\n",
       "TUITION1_INDISTRICT_UG   1,239.00      24,383.56     24,700.00      16,027.95   \n",
       "FEE1_INDISTRICT_UG       1,239.00       1,470.85      1,150.00       1,323.09   \n",
       "NUM_APPS_ADMIT           1,239.00       7,359.40      3,629.00      10,580.28   \n",
       "TOTAL_AMOUNT_PELL_TOUG   1,239.00   8,636,779.55  3,348,648.00  13,786,902.85   \n",
       "TOTAL_SPENT_ACADEMICSUPP 1,239.00  25,698,185.32  6,710,398.00  64,783,275.42   \n",
       "TOTAL_SPENT_STUDENTSS    1,239.00  19,937,941.75 11,508,007.00  29,371,563.89   \n",
       "STATEGRANT               1,239.00  31,935,348.46 14,850,000.00  58,740,256.84   \n",
       "LOCAL_GRANT              1,239.00 123,554,158.13 25,625,786.00 603,987,522.45   \n",
       "\n",
       "                          coefvar   min               max  \n",
       "TUITION1_INDISTRICT_UG       0.66 75.00         60,872.00  \n",
       "FEE1_INDISTRICT_UG           0.90 20.00         13,170.00  \n",
       "NUM_APPS_ADMIT               1.44  0.00         95,321.00  \n",
       "TOTAL_AMOUNT_PELL_TOUG       1.60  0.00    125,672,827.00  \n",
       "TOTAL_SPENT_ACADEMICSUPP     2.52  0.00  1,012,266,000.00  \n",
       "TOTAL_SPENT_STUDENTSS        1.47  0.00    439,695,909.00  \n",
       "STATEGRANT                   1.84  0.00    711,990,000.00  \n",
       "LOCAL_GRANT                  4.89  0.00 10,944,686,000.00  "
      ]
     },
     "execution_count": 26,
     "metadata": {},
     "output_type": "execute_result"
    }
   ],
   "source": [
    "stat1.iloc[0:12,:]"
   ]
  },
  {
   "cell_type": "markdown",
   "id": "cea5cbc3",
   "metadata": {},
   "source": [
    "# Features worried"
   ]
  },
  {
   "cell_type": "code",
   "execution_count": 27,
   "id": "986c4dc9",
   "metadata": {},
   "outputs": [],
   "source": [
    "private = data[data['TYPE']==0]\n",
    "public = data[data['TYPE']==1]"
   ]
  },
  {
   "cell_type": "code",
   "execution_count": 28,
   "id": "e5655c7f",
   "metadata": {},
   "outputs": [],
   "source": [
    "stat2=round(private.describe(),3)\n",
    "stat2 = stat2.T\n",
    "stat2['coefvar'] =stat2['std'] / stat2['mean']\n",
    "stat2.rename(columns = {'50%': 'median'}, inplace= True)\n",
    "stat2 = stat2.loc[:, ['count', 'mean', 'median', 'std', 'coefvar', 'min', 'max']]"
   ]
  },
  {
   "cell_type": "code",
   "execution_count": 29,
   "id": "a7122c0b",
   "metadata": {},
   "outputs": [
    {
     "data": {
      "text/html": [
       "<div>\n",
       "<style scoped>\n",
       "    .dataframe tbody tr th:only-of-type {\n",
       "        vertical-align: middle;\n",
       "    }\n",
       "\n",
       "    .dataframe tbody tr th {\n",
       "        vertical-align: top;\n",
       "    }\n",
       "\n",
       "    .dataframe thead th {\n",
       "        text-align: right;\n",
       "    }\n",
       "</style>\n",
       "<table border=\"1\" class=\"dataframe\">\n",
       "  <thead>\n",
       "    <tr style=\"text-align: right;\">\n",
       "      <th></th>\n",
       "      <th>count</th>\n",
       "      <th>mean</th>\n",
       "      <th>median</th>\n",
       "      <th>std</th>\n",
       "      <th>coefvar</th>\n",
       "      <th>min</th>\n",
       "      <th>max</th>\n",
       "    </tr>\n",
       "  </thead>\n",
       "  <tbody>\n",
       "  </tbody>\n",
       "</table>\n",
       "</div>"
      ],
      "text/plain": [
       "Empty DataFrame\n",
       "Columns: [count, mean, median, std, coefvar, min, max]\n",
       "Index: []"
      ]
     },
     "execution_count": 29,
     "metadata": {},
     "output_type": "execute_result"
    }
   ],
   "source": [
    "stat2.iloc[22:]"
   ]
  },
  {
   "cell_type": "code",
   "execution_count": 30,
   "id": "f81e9b99",
   "metadata": {},
   "outputs": [
    {
     "data": {
      "text/html": [
       "<div>\n",
       "<style scoped>\n",
       "    .dataframe tbody tr th:only-of-type {\n",
       "        vertical-align: middle;\n",
       "    }\n",
       "\n",
       "    .dataframe tbody tr th {\n",
       "        vertical-align: top;\n",
       "    }\n",
       "\n",
       "    .dataframe thead th {\n",
       "        text-align: right;\n",
       "    }\n",
       "</style>\n",
       "<table border=\"1\" class=\"dataframe\">\n",
       "  <thead>\n",
       "    <tr style=\"text-align: right;\">\n",
       "      <th></th>\n",
       "      <th>count</th>\n",
       "      <th>mean</th>\n",
       "      <th>median</th>\n",
       "      <th>std</th>\n",
       "      <th>coefvar</th>\n",
       "      <th>min</th>\n",
       "      <th>max</th>\n",
       "    </tr>\n",
       "  </thead>\n",
       "  <tbody>\n",
       "  </tbody>\n",
       "</table>\n",
       "</div>"
      ],
      "text/plain": [
       "Empty DataFrame\n",
       "Columns: [count, mean, median, std, coefvar, min, max]\n",
       "Index: []"
      ]
     },
     "execution_count": 30,
     "metadata": {},
     "output_type": "execute_result"
    }
   ],
   "source": [
    "stat3=round(public.describe(),3)\n",
    "stat3 = stat3.T\n",
    "stat3['coefvar'] =stat3['std'] / stat3['mean']\n",
    "stat3.rename(columns = {'50%': 'median'}, inplace= True)\n",
    "stat3 = stat3.loc[:, ['count', 'mean', 'median', 'std', 'coefvar', 'min', 'max']]\n",
    "stat3[22:]"
   ]
  },
  {
   "cell_type": "code",
   "execution_count": 31,
   "id": "dc30056c",
   "metadata": {},
   "outputs": [
    {
     "data": {
      "text/html": [
       "<div>\n",
       "<style scoped>\n",
       "    .dataframe tbody tr th:only-of-type {\n",
       "        vertical-align: middle;\n",
       "    }\n",
       "\n",
       "    .dataframe tbody tr th {\n",
       "        vertical-align: top;\n",
       "    }\n",
       "\n",
       "    .dataframe thead th {\n",
       "        text-align: right;\n",
       "    }\n",
       "</style>\n",
       "<table border=\"1\" class=\"dataframe\">\n",
       "  <thead>\n",
       "    <tr style=\"text-align: right;\">\n",
       "      <th></th>\n",
       "      <th>UNITID</th>\n",
       "      <th>TUITION1_INDISTRICT_UG</th>\n",
       "      <th>TYPE</th>\n",
       "    </tr>\n",
       "  </thead>\n",
       "  <tbody>\n",
       "    <tr>\n",
       "      <th>428</th>\n",
       "      <td>165024</td>\n",
       "      <td>910</td>\n",
       "      <td>1</td>\n",
       "    </tr>\n",
       "    <tr>\n",
       "      <th>437</th>\n",
       "      <td>165820</td>\n",
       "      <td>970</td>\n",
       "      <td>1</td>\n",
       "    </tr>\n",
       "    <tr>\n",
       "      <th>438</th>\n",
       "      <td>165866</td>\n",
       "      <td>970</td>\n",
       "      <td>1</td>\n",
       "    </tr>\n",
       "    <tr>\n",
       "      <th>458</th>\n",
       "      <td>167729</td>\n",
       "      <td>910</td>\n",
       "      <td>1</td>\n",
       "    </tr>\n",
       "    <tr>\n",
       "      <th>468</th>\n",
       "      <td>168263</td>\n",
       "      <td>970</td>\n",
       "      <td>1</td>\n",
       "    </tr>\n",
       "    <tr>\n",
       "      <th>471</th>\n",
       "      <td>168430</td>\n",
       "      <td>970</td>\n",
       "      <td>1</td>\n",
       "    </tr>\n",
       "    <tr>\n",
       "      <th>738</th>\n",
       "      <td>198507</td>\n",
       "      <td>1000</td>\n",
       "      <td>1</td>\n",
       "    </tr>\n",
       "    <tr>\n",
       "      <th>763</th>\n",
       "      <td>199281</td>\n",
       "      <td>1000</td>\n",
       "      <td>1</td>\n",
       "    </tr>\n",
       "    <tr>\n",
       "      <th>775</th>\n",
       "      <td>200004</td>\n",
       "      <td>1000</td>\n",
       "      <td>1</td>\n",
       "    </tr>\n",
       "    <tr>\n",
       "      <th>963</th>\n",
       "      <td>217864</td>\n",
       "      <td>75</td>\n",
       "      <td>1</td>\n",
       "    </tr>\n",
       "  </tbody>\n",
       "</table>\n",
       "</div>"
      ],
      "text/plain": [
       "     UNITID  TUITION1_INDISTRICT_UG  TYPE\n",
       "428  165024                     910     1\n",
       "437  165820                     970     1\n",
       "438  165866                     970     1\n",
       "458  167729                     910     1\n",
       "468  168263                     970     1\n",
       "471  168430                     970     1\n",
       "738  198507                    1000     1\n",
       "763  199281                    1000     1\n",
       "775  200004                    1000     1\n",
       "963  217864                      75     1"
      ]
     },
     "execution_count": 31,
     "metadata": {},
     "output_type": "execute_result"
    }
   ],
   "source": [
    "tuit1_small = data[data['TUITION1_INDISTRICT_UG']<=1000]\n",
    "tuit1_small[[\"UNITID\",\"TUITION1_INDISTRICT_UG\",\"TYPE\"]]"
   ]
  },
  {
   "cell_type": "code",
   "execution_count": 32,
   "id": "b42a9435",
   "metadata": {},
   "outputs": [
    {
     "data": {
      "text/html": [
       "<div>\n",
       "<style scoped>\n",
       "    .dataframe tbody tr th:only-of-type {\n",
       "        vertical-align: middle;\n",
       "    }\n",
       "\n",
       "    .dataframe tbody tr th {\n",
       "        vertical-align: top;\n",
       "    }\n",
       "\n",
       "    .dataframe thead th {\n",
       "        text-align: right;\n",
       "    }\n",
       "</style>\n",
       "<table border=\"1\" class=\"dataframe\">\n",
       "  <thead>\n",
       "    <tr style=\"text-align: right;\">\n",
       "      <th></th>\n",
       "      <th>UNITID</th>\n",
       "      <th>FEE1_INDISTRICT_UG</th>\n",
       "      <th>TYPE</th>\n",
       "    </tr>\n",
       "  </thead>\n",
       "  <tbody>\n",
       "    <tr>\n",
       "      <th>146</th>\n",
       "      <td>131469</td>\n",
       "      <td>88</td>\n",
       "      <td>0</td>\n",
       "    </tr>\n",
       "    <tr>\n",
       "      <th>159</th>\n",
       "      <td>133711</td>\n",
       "      <td>100</td>\n",
       "      <td>0</td>\n",
       "    </tr>\n",
       "    <tr>\n",
       "      <th>365</th>\n",
       "      <td>157757</td>\n",
       "      <td>100</td>\n",
       "      <td>0</td>\n",
       "    </tr>\n",
       "    <tr>\n",
       "      <th>401</th>\n",
       "      <td>162654</td>\n",
       "      <td>100</td>\n",
       "      <td>0</td>\n",
       "    </tr>\n",
       "    <tr>\n",
       "      <th>533</th>\n",
       "      <td>176035</td>\n",
       "      <td>100</td>\n",
       "      <td>1</td>\n",
       "    </tr>\n",
       "    <tr>\n",
       "      <th>534</th>\n",
       "      <td>176044</td>\n",
       "      <td>20</td>\n",
       "      <td>1</td>\n",
       "    </tr>\n",
       "    <tr>\n",
       "      <th>549</th>\n",
       "      <td>177968</td>\n",
       "      <td>100</td>\n",
       "      <td>0</td>\n",
       "    </tr>\n",
       "    <tr>\n",
       "      <th>596</th>\n",
       "      <td>183026</td>\n",
       "      <td>50</td>\n",
       "      <td>0</td>\n",
       "    </tr>\n",
       "    <tr>\n",
       "      <th>683</th>\n",
       "      <td>194392</td>\n",
       "      <td>34</td>\n",
       "      <td>0</td>\n",
       "    </tr>\n",
       "    <tr>\n",
       "      <th>732</th>\n",
       "      <td>197744</td>\n",
       "      <td>100</td>\n",
       "      <td>0</td>\n",
       "    </tr>\n",
       "  </tbody>\n",
       "</table>\n",
       "</div>"
      ],
      "text/plain": [
       "     UNITID  FEE1_INDISTRICT_UG  TYPE\n",
       "146  131469                  88     0\n",
       "159  133711                 100     0\n",
       "365  157757                 100     0\n",
       "401  162654                 100     0\n",
       "533  176035                 100     1\n",
       "534  176044                  20     1\n",
       "549  177968                 100     0\n",
       "596  183026                  50     0\n",
       "683  194392                  34     0\n",
       "732  197744                 100     0"
      ]
     },
     "execution_count": 32,
     "metadata": {},
     "output_type": "execute_result"
    }
   ],
   "source": [
    "tuit1_small = data[data['FEE1_INDISTRICT_UG']<=100]\n",
    "tuit1_small[[\"UNITID\",\"FEE1_INDISTRICT_UG\",\"TYPE\"]].head(10)"
   ]
  },
  {
   "cell_type": "markdown",
   "id": "6aafbc73",
   "metadata": {},
   "source": [
    "Drop this instance "
   ]
  },
  {
   "cell_type": "code",
   "execution_count": 33,
   "id": "769ded72",
   "metadata": {},
   "outputs": [],
   "source": [
    "data.drop(963,axis=0,inplace=True)"
   ]
  },
  {
   "cell_type": "code",
   "execution_count": 34,
   "id": "b8298735",
   "metadata": {},
   "outputs": [
    {
     "data": {
      "text/html": [
       "<div>\n",
       "<style scoped>\n",
       "    .dataframe tbody tr th:only-of-type {\n",
       "        vertical-align: middle;\n",
       "    }\n",
       "\n",
       "    .dataframe tbody tr th {\n",
       "        vertical-align: top;\n",
       "    }\n",
       "\n",
       "    .dataframe thead th {\n",
       "        text-align: right;\n",
       "    }\n",
       "</style>\n",
       "<table border=\"1\" class=\"dataframe\">\n",
       "  <thead>\n",
       "    <tr style=\"text-align: right;\">\n",
       "      <th></th>\n",
       "      <th>UNITID</th>\n",
       "      <th>TUITION1_INDISTRICT_UG</th>\n",
       "      <th>TYPE</th>\n",
       "      <th>FEE1_INDISTRICT_UG</th>\n",
       "    </tr>\n",
       "  </thead>\n",
       "  <tbody>\n",
       "    <tr>\n",
       "      <th>146</th>\n",
       "      <td>131469</td>\n",
       "      <td>55961</td>\n",
       "      <td>0</td>\n",
       "      <td>88</td>\n",
       "    </tr>\n",
       "    <tr>\n",
       "      <th>159</th>\n",
       "      <td>133711</td>\n",
       "      <td>19940</td>\n",
       "      <td>0</td>\n",
       "      <td>100</td>\n",
       "    </tr>\n",
       "    <tr>\n",
       "      <th>365</th>\n",
       "      <td>157757</td>\n",
       "      <td>25800</td>\n",
       "      <td>0</td>\n",
       "      <td>100</td>\n",
       "    </tr>\n",
       "    <tr>\n",
       "      <th>401</th>\n",
       "      <td>162654</td>\n",
       "      <td>47100</td>\n",
       "      <td>0</td>\n",
       "      <td>100</td>\n",
       "    </tr>\n",
       "    <tr>\n",
       "      <th>533</th>\n",
       "      <td>176035</td>\n",
       "      <td>7425</td>\n",
       "      <td>1</td>\n",
       "      <td>100</td>\n",
       "    </tr>\n",
       "    <tr>\n",
       "      <th>534</th>\n",
       "      <td>176044</td>\n",
       "      <td>6726</td>\n",
       "      <td>1</td>\n",
       "      <td>20</td>\n",
       "    </tr>\n",
       "    <tr>\n",
       "      <th>549</th>\n",
       "      <td>177968</td>\n",
       "      <td>18000</td>\n",
       "      <td>0</td>\n",
       "      <td>100</td>\n",
       "    </tr>\n",
       "    <tr>\n",
       "      <th>596</th>\n",
       "      <td>183026</td>\n",
       "      <td>9600</td>\n",
       "      <td>0</td>\n",
       "      <td>50</td>\n",
       "    </tr>\n",
       "    <tr>\n",
       "      <th>683</th>\n",
       "      <td>194392</td>\n",
       "      <td>30160</td>\n",
       "      <td>0</td>\n",
       "      <td>34</td>\n",
       "    </tr>\n",
       "    <tr>\n",
       "      <th>732</th>\n",
       "      <td>197744</td>\n",
       "      <td>13350</td>\n",
       "      <td>0</td>\n",
       "      <td>100</td>\n",
       "    </tr>\n",
       "    <tr>\n",
       "      <th>773</th>\n",
       "      <td>199962</td>\n",
       "      <td>38796</td>\n",
       "      <td>0</td>\n",
       "      <td>100</td>\n",
       "    </tr>\n",
       "    <tr>\n",
       "      <th>819</th>\n",
       "      <td>205124</td>\n",
       "      <td>13000</td>\n",
       "      <td>0</td>\n",
       "      <td>100</td>\n",
       "    </tr>\n",
       "    <tr>\n",
       "      <th>829</th>\n",
       "      <td>206604</td>\n",
       "      <td>9469</td>\n",
       "      <td>1</td>\n",
       "      <td>50</td>\n",
       "    </tr>\n",
       "    <tr>\n",
       "      <th>959</th>\n",
       "      <td>217688</td>\n",
       "      <td>27800</td>\n",
       "      <td>0</td>\n",
       "      <td>40</td>\n",
       "    </tr>\n",
       "    <tr>\n",
       "      <th>1026</th>\n",
       "      <td>222178</td>\n",
       "      <td>37750</td>\n",
       "      <td>0</td>\n",
       "      <td>50</td>\n",
       "    </tr>\n",
       "    <tr>\n",
       "      <th>1051</th>\n",
       "      <td>226587</td>\n",
       "      <td>28530</td>\n",
       "      <td>0</td>\n",
       "      <td>90</td>\n",
       "    </tr>\n",
       "    <tr>\n",
       "      <th>1075</th>\n",
       "      <td>228875</td>\n",
       "      <td>51570</td>\n",
       "      <td>0</td>\n",
       "      <td>90</td>\n",
       "    </tr>\n",
       "    <tr>\n",
       "      <th>1195</th>\n",
       "      <td>247773</td>\n",
       "      <td>7700</td>\n",
       "      <td>0</td>\n",
       "      <td>100</td>\n",
       "    </tr>\n",
       "    <tr>\n",
       "      <th>1201</th>\n",
       "      <td>405058</td>\n",
       "      <td>10200</td>\n",
       "      <td>0</td>\n",
       "      <td>100</td>\n",
       "    </tr>\n",
       "  </tbody>\n",
       "</table>\n",
       "</div>"
      ],
      "text/plain": [
       "      UNITID  TUITION1_INDISTRICT_UG  TYPE  FEE1_INDISTRICT_UG\n",
       "146   131469                   55961     0                  88\n",
       "159   133711                   19940     0                 100\n",
       "365   157757                   25800     0                 100\n",
       "401   162654                   47100     0                 100\n",
       "533   176035                    7425     1                 100\n",
       "534   176044                    6726     1                  20\n",
       "549   177968                   18000     0                 100\n",
       "596   183026                    9600     0                  50\n",
       "683   194392                   30160     0                  34\n",
       "732   197744                   13350     0                 100\n",
       "773   199962                   38796     0                 100\n",
       "819   205124                   13000     0                 100\n",
       "829   206604                    9469     1                  50\n",
       "959   217688                   27800     0                  40\n",
       "1026  222178                   37750     0                  50\n",
       "1051  226587                   28530     0                  90\n",
       "1075  228875                   51570     0                  90\n",
       "1195  247773                    7700     0                 100\n",
       "1201  405058                   10200     0                 100"
      ]
     },
     "execution_count": 34,
     "metadata": {},
     "output_type": "execute_result"
    }
   ],
   "source": [
    "tuit1_small[[\"UNITID\",\"TUITION1_INDISTRICT_UG\",\"TYPE\",\"FEE1_INDISTRICT_UG\"]]"
   ]
  },
  {
   "cell_type": "code",
   "execution_count": 35,
   "id": "59ea50b4",
   "metadata": {},
   "outputs": [
    {
     "data": {
      "text/html": [
       "<div>\n",
       "<style scoped>\n",
       "    .dataframe tbody tr th:only-of-type {\n",
       "        vertical-align: middle;\n",
       "    }\n",
       "\n",
       "    .dataframe tbody tr th {\n",
       "        vertical-align: top;\n",
       "    }\n",
       "\n",
       "    .dataframe thead th {\n",
       "        text-align: right;\n",
       "    }\n",
       "</style>\n",
       "<table border=\"1\" class=\"dataframe\">\n",
       "  <thead>\n",
       "    <tr style=\"text-align: right;\">\n",
       "      <th></th>\n",
       "      <th>NUM_APPS_ADMIT</th>\n",
       "      <th>TYPE</th>\n",
       "    </tr>\n",
       "  </thead>\n",
       "  <tbody>\n",
       "    <tr>\n",
       "      <th>124</th>\n",
       "      <td>24</td>\n",
       "      <td>0</td>\n",
       "    </tr>\n",
       "    <tr>\n",
       "      <th>421</th>\n",
       "      <td>18</td>\n",
       "      <td>0</td>\n",
       "    </tr>\n",
       "    <tr>\n",
       "      <th>494</th>\n",
       "      <td>2</td>\n",
       "      <td>0</td>\n",
       "    </tr>\n",
       "    <tr>\n",
       "      <th>625</th>\n",
       "      <td>9</td>\n",
       "      <td>0</td>\n",
       "    </tr>\n",
       "    <tr>\n",
       "      <th>649</th>\n",
       "      <td>17</td>\n",
       "      <td>0</td>\n",
       "    </tr>\n",
       "    <tr>\n",
       "      <th>685</th>\n",
       "      <td>18</td>\n",
       "      <td>0</td>\n",
       "    </tr>\n",
       "    <tr>\n",
       "      <th>695</th>\n",
       "      <td>1</td>\n",
       "      <td>0</td>\n",
       "    </tr>\n",
       "    <tr>\n",
       "      <th>732</th>\n",
       "      <td>12</td>\n",
       "      <td>0</td>\n",
       "    </tr>\n",
       "    <tr>\n",
       "      <th>819</th>\n",
       "      <td>22</td>\n",
       "      <td>0</td>\n",
       "    </tr>\n",
       "    <tr>\n",
       "      <th>935</th>\n",
       "      <td>5</td>\n",
       "      <td>0</td>\n",
       "    </tr>\n",
       "    <tr>\n",
       "      <th>1195</th>\n",
       "      <td>14</td>\n",
       "      <td>0</td>\n",
       "    </tr>\n",
       "    <tr>\n",
       "      <th>1199</th>\n",
       "      <td>26</td>\n",
       "      <td>0</td>\n",
       "    </tr>\n",
       "    <tr>\n",
       "      <th>1203</th>\n",
       "      <td>0</td>\n",
       "      <td>0</td>\n",
       "    </tr>\n",
       "    <tr>\n",
       "      <th>1209</th>\n",
       "      <td>8</td>\n",
       "      <td>0</td>\n",
       "    </tr>\n",
       "    <tr>\n",
       "      <th>1213</th>\n",
       "      <td>4</td>\n",
       "      <td>0</td>\n",
       "    </tr>\n",
       "    <tr>\n",
       "      <th>1228</th>\n",
       "      <td>1</td>\n",
       "      <td>0</td>\n",
       "    </tr>\n",
       "    <tr>\n",
       "      <th>1231</th>\n",
       "      <td>16</td>\n",
       "      <td>0</td>\n",
       "    </tr>\n",
       "    <tr>\n",
       "      <th>1233</th>\n",
       "      <td>23</td>\n",
       "      <td>0</td>\n",
       "    </tr>\n",
       "  </tbody>\n",
       "</table>\n",
       "</div>"
      ],
      "text/plain": [
       "      NUM_APPS_ADMIT  TYPE\n",
       "124               24     0\n",
       "421               18     0\n",
       "494                2     0\n",
       "625                9     0\n",
       "649               17     0\n",
       "685               18     0\n",
       "695                1     0\n",
       "732               12     0\n",
       "819               22     0\n",
       "935                5     0\n",
       "1195              14     0\n",
       "1199              26     0\n",
       "1203               0     0\n",
       "1209               8     0\n",
       "1213               4     0\n",
       "1228               1     0\n",
       "1231              16     0\n",
       "1233              23     0"
      ]
     },
     "execution_count": 35,
     "metadata": {},
     "output_type": "execute_result"
    }
   ],
   "source": [
    "numapps_small = data[data['NUM_APPS_ADMIT']<30]\n",
    "numapps_small[[\"NUM_APPS_ADMIT\",\"TYPE\"]]"
   ]
  },
  {
   "cell_type": "code",
   "execution_count": 36,
   "id": "a126092e",
   "metadata": {},
   "outputs": [
    {
     "data": {
      "text/html": [
       "<div>\n",
       "<style scoped>\n",
       "    .dataframe tbody tr th:only-of-type {\n",
       "        vertical-align: middle;\n",
       "    }\n",
       "\n",
       "    .dataframe tbody tr th {\n",
       "        vertical-align: top;\n",
       "    }\n",
       "\n",
       "    .dataframe thead th {\n",
       "        text-align: right;\n",
       "    }\n",
       "</style>\n",
       "<table border=\"1\" class=\"dataframe\">\n",
       "  <thead>\n",
       "    <tr style=\"text-align: right;\">\n",
       "      <th></th>\n",
       "      <th>count</th>\n",
       "      <th>mean</th>\n",
       "      <th>median</th>\n",
       "      <th>std</th>\n",
       "      <th>coefvar</th>\n",
       "      <th>min</th>\n",
       "      <th>max</th>\n",
       "    </tr>\n",
       "  </thead>\n",
       "  <tbody>\n",
       "  </tbody>\n",
       "</table>\n",
       "</div>"
      ],
      "text/plain": [
       "Empty DataFrame\n",
       "Columns: [count, mean, median, std, coefvar, min, max]\n",
       "Index: []"
      ]
     },
     "execution_count": 36,
     "metadata": {},
     "output_type": "execute_result"
    }
   ],
   "source": [
    "stat1.iloc[12:,:]"
   ]
  },
  {
   "cell_type": "code",
   "execution_count": 37,
   "id": "cc2e20cb",
   "metadata": {},
   "outputs": [
    {
     "data": {
      "text/html": [
       "<div>\n",
       "<style scoped>\n",
       "    .dataframe tbody tr th:only-of-type {\n",
       "        vertical-align: middle;\n",
       "    }\n",
       "\n",
       "    .dataframe tbody tr th {\n",
       "        vertical-align: top;\n",
       "    }\n",
       "\n",
       "    .dataframe thead th {\n",
       "        text-align: right;\n",
       "    }\n",
       "</style>\n",
       "<table border=\"1\" class=\"dataframe\">\n",
       "  <thead>\n",
       "    <tr style=\"text-align: right;\">\n",
       "      <th></th>\n",
       "      <th>UNITID</th>\n",
       "      <th>TUITION1_INDISTRICT_UG</th>\n",
       "      <th>TYPE</th>\n",
       "      <th>FEE1_INDISTRICT_UG</th>\n",
       "    </tr>\n",
       "  </thead>\n",
       "  <tbody>\n",
       "    <tr>\n",
       "      <th>89</th>\n",
       "      <td>121257</td>\n",
       "      <td>55734</td>\n",
       "      <td>0</td>\n",
       "      <td>144</td>\n",
       "    </tr>\n",
       "    <tr>\n",
       "      <th>146</th>\n",
       "      <td>131469</td>\n",
       "      <td>55961</td>\n",
       "      <td>0</td>\n",
       "      <td>88</td>\n",
       "    </tr>\n",
       "    <tr>\n",
       "      <th>159</th>\n",
       "      <td>133711</td>\n",
       "      <td>19940</td>\n",
       "      <td>0</td>\n",
       "      <td>100</td>\n",
       "    </tr>\n",
       "    <tr>\n",
       "      <th>223</th>\n",
       "      <td>141486</td>\n",
       "      <td>26800</td>\n",
       "      <td>0</td>\n",
       "      <td>114</td>\n",
       "    </tr>\n",
       "    <tr>\n",
       "      <th>258</th>\n",
       "      <td>147660</td>\n",
       "      <td>41000</td>\n",
       "      <td>0</td>\n",
       "      <td>180</td>\n",
       "    </tr>\n",
       "  </tbody>\n",
       "</table>\n",
       "</div>"
      ],
      "text/plain": [
       "     UNITID  TUITION1_INDISTRICT_UG  TYPE  FEE1_INDISTRICT_UG\n",
       "89   121257                   55734     0                 144\n",
       "146  131469                   55961     0                  88\n",
       "159  133711                   19940     0                 100\n",
       "223  141486                   26800     0                 114\n",
       "258  147660                   41000     0                 180"
      ]
     },
     "execution_count": 37,
     "metadata": {},
     "output_type": "execute_result"
    }
   ],
   "source": [
    "fee1_small = data[data['FEE1_INDISTRICT_UG']<200]\n",
    "fee1_small[[\"UNITID\",\"TUITION1_INDISTRICT_UG\",\"TYPE\",\"FEE1_INDISTRICT_UG\"]].head()"
   ]
  },
  {
   "cell_type": "markdown",
   "id": "fdf24e0b",
   "metadata": {},
   "source": [
    "# Graphing Numerical"
   ]
  },
  {
   "cell_type": "code",
   "execution_count": 38,
   "id": "233cb97f",
   "metadata": {},
   "outputs": [
    {
     "data": {
      "image/png": "[encoded data removed]",
      "text/plain": [
       "<Figure size 432x288 with 1 Axes>"
      ]
     },
     "metadata": {
      "needs_background": "light"
     },
     "output_type": "display_data"
    }
   ],
   "source": [
    "sns.histplot(data = data, x=\"TUITION1_INDISTRICT_UG\", hue=\"TYPE\")\n",
    "plt.title(' In-district average tuition for undergraduates', fontsize=16)\n",
    "plt.xlabel('', fontsize=16)\n",
    "plt.ylabel('Frequency', fontsize=16)\n",
    "plt.show()"
   ]
  },
  {
   "cell_type": "code",
   "execution_count": 39,
   "id": "56f03d6d",
   "metadata": {},
   "outputs": [
    {
     "data": {
      "text/plain": [
       "[<matplotlib.axis.XTick at 0x22b78606f40>,\n",
       " <matplotlib.axis.XTick at 0x22b78606f10>,\n",
       " <matplotlib.axis.XTick at 0x22b786c5820>,\n",
       " <matplotlib.axis.XTick at 0x22b78721520>,\n",
       " <matplotlib.axis.XTick at 0x22b787219a0>]"
      ]
     },
     "execution_count": 39,
     "metadata": {},
     "output_type": "execute_result"
    },
    {
     "data": {
      "image/png": "[encoded data removed]",
      "text/plain": [
       "<Figure size 504x360 with 1 Axes>"
      ]
     },
     "metadata": {},
     "output_type": "display_data"
    }
   ],
   "source": [
    "sns.set_theme(style=\"ticks\")\n",
    "\n",
    "diamonds = sns.load_dataset(\"diamonds\")\n",
    "\n",
    "f, ax = plt.subplots(figsize=(7, 5))\n",
    "sns.despine(f)\n",
    "\n",
    "x = data[\"TUITION1_INDISTRICT_UG\"]\n",
    "y = data[\"STATE\"]\n",
    "sns.histplot(\n",
    "    diamonds,\n",
    "    x=x, hue=y,\n",
    "    multiple=\"stack\",\n",
    "    palette=\"light:m_r\",\n",
    "    edgecolor=\".3\",\n",
    "    linewidth=.5,\n",
    "    log_scale=True,\n",
    ")\n",
    "ax.xaxis.set_major_formatter(mpl.ticker.ScalarFormatter())\n",
    "\n",
    "ax.set_xticks([1000,10000,20000,40000,60000])"
   ]
  },
  {
   "cell_type": "code",
   "execution_count": 40,
   "id": "39740af4",
   "metadata": {},
   "outputs": [
    {
     "data": {
      "text/html": [
       "<div>\n",
       "<style scoped>\n",
       "    .dataframe tbody tr th:only-of-type {\n",
       "        vertical-align: middle;\n",
       "    }\n",
       "\n",
       "    .dataframe tbody tr th {\n",
       "        vertical-align: top;\n",
       "    }\n",
       "\n",
       "    .dataframe thead th {\n",
       "        text-align: right;\n",
       "    }\n",
       "</style>\n",
       "<table border=\"1\" class=\"dataframe\">\n",
       "  <thead>\n",
       "    <tr style=\"text-align: right;\">\n",
       "      <th></th>\n",
       "      <th>UNITID</th>\n",
       "      <th>TYPE</th>\n",
       "      <th>TUITION1_INDISTRICT_UG</th>\n",
       "      <th>FEE1_INDISTRICT_UG</th>\n",
       "      <th>NUM_APPS_ADMIT</th>\n",
       "      <th>TOTAL_AMOUNT_PELL_TOUG</th>\n",
       "      <th>TOTAL_SPENT_ACADEMICSUPP</th>\n",
       "      <th>TOTAL_SPENT_STUDENTSS</th>\n",
       "      <th>STATEGRANT</th>\n",
       "      <th>LOCAL_GRANT</th>\n",
       "    </tr>\n",
       "  </thead>\n",
       "  <tbody>\n",
       "    <tr>\n",
       "      <th>count</th>\n",
       "      <td>1,238.00</td>\n",
       "      <td>1,238.00</td>\n",
       "      <td>1,238.00</td>\n",
       "      <td>1,238.00</td>\n",
       "      <td>1,238.00</td>\n",
       "      <td>1,238.00</td>\n",
       "      <td>1,238.00</td>\n",
       "      <td>1,238.00</td>\n",
       "      <td>1,238.00</td>\n",
       "      <td>1,238.00</td>\n",
       "    </tr>\n",
       "    <tr>\n",
       "      <th>mean</th>\n",
       "      <td>190,137.69</td>\n",
       "      <td>0.35</td>\n",
       "      <td>24,403.20</td>\n",
       "      <td>1,461.90</td>\n",
       "      <td>7,363.31</td>\n",
       "      <td>8,641,332.91</td>\n",
       "      <td>25,710,850.90</td>\n",
       "      <td>19,945,657.51</td>\n",
       "      <td>31,957,126.09</td>\n",
       "      <td>123,653,959.55</td>\n",
       "    </tr>\n",
       "    <tr>\n",
       "      <th>std</th>\n",
       "      <td>63,706.27</td>\n",
       "      <td>0.48</td>\n",
       "      <td>16,019.51</td>\n",
       "      <td>1,285.60</td>\n",
       "      <td>10,583.66</td>\n",
       "      <td>13,791,542.41</td>\n",
       "      <td>64,807,921.12</td>\n",
       "      <td>29,382,177.39</td>\n",
       "      <td>58,758,991.04</td>\n",
       "      <td>604,221,386.78</td>\n",
       "    </tr>\n",
       "    <tr>\n",
       "      <th>min</th>\n",
       "      <td>100,654.00</td>\n",
       "      <td>0.00</td>\n",
       "      <td>910.00</td>\n",
       "      <td>20.00</td>\n",
       "      <td>0.00</td>\n",
       "      <td>0.00</td>\n",
       "      <td>0.00</td>\n",
       "      <td>0.00</td>\n",
       "      <td>0.00</td>\n",
       "      <td>0.00</td>\n",
       "    </tr>\n",
       "    <tr>\n",
       "      <th>25%</th>\n",
       "      <td>153,432.00</td>\n",
       "      <td>0.00</td>\n",
       "      <td>8,367.25</td>\n",
       "      <td>653.25</td>\n",
       "      <td>1,589.50</td>\n",
       "      <td>1,840,029.25</td>\n",
       "      <td>2,477,022.75</td>\n",
       "      <td>6,183,528.75</td>\n",
       "      <td>4,109,382.25</td>\n",
       "      <td>0.00</td>\n",
       "    </tr>\n",
       "    <tr>\n",
       "      <th>50%</th>\n",
       "      <td>186,389.50</td>\n",
       "      <td>0.00</td>\n",
       "      <td>24,733.00</td>\n",
       "      <td>1,149.50</td>\n",
       "      <td>3,631.00</td>\n",
       "      <td>3,349,503.50</td>\n",
       "      <td>6,706,231.50</td>\n",
       "      <td>11,511,319.50</td>\n",
       "      <td>14,854,064.50</td>\n",
       "      <td>25,631,975.50</td>\n",
       "    </tr>\n",
       "    <tr>\n",
       "      <th>75%</th>\n",
       "      <td>215,730.00</td>\n",
       "      <td>1.00</td>\n",
       "      <td>36,474.00</td>\n",
       "      <td>1,851.75</td>\n",
       "      <td>8,532.75</td>\n",
       "      <td>9,472,201.75</td>\n",
       "      <td>20,328,165.50</td>\n",
       "      <td>22,373,640.75</td>\n",
       "      <td>35,468,767.25</td>\n",
       "      <td>69,277,824.25</td>\n",
       "    </tr>\n",
       "    <tr>\n",
       "      <th>max</th>\n",
       "      <td>495,767.00</td>\n",
       "      <td>1.00</td>\n",
       "      <td>60,872.00</td>\n",
       "      <td>13,170.00</td>\n",
       "      <td>95,321.00</td>\n",
       "      <td>125,672,827.00</td>\n",
       "      <td>1,012,266,000.00</td>\n",
       "      <td>439,695,909.00</td>\n",
       "      <td>711,990,000.00</td>\n",
       "      <td>10,944,686,000.00</td>\n",
       "    </tr>\n",
       "  </tbody>\n",
       "</table>\n",
       "</div>"
      ],
      "text/plain": [
       "          UNITID     TYPE  TUITION1_INDISTRICT_UG  FEE1_INDISTRICT_UG  \\\n",
       "count   1,238.00 1,238.00                1,238.00            1,238.00   \n",
       "mean  190,137.69     0.35               24,403.20            1,461.90   \n",
       "std    63,706.27     0.48               16,019.51            1,285.60   \n",
       "min   100,654.00     0.00                  910.00               20.00   \n",
       "25%   153,432.00     0.00                8,367.25              653.25   \n",
       "50%   186,389.50     0.00               24,733.00            1,149.50   \n",
       "75%   215,730.00     1.00               36,474.00            1,851.75   \n",
       "max   495,767.00     1.00               60,872.00           13,170.00   \n",
       "\n",
       "       NUM_APPS_ADMIT  TOTAL_AMOUNT_PELL_TOUG  TOTAL_SPENT_ACADEMICSUPP  \\\n",
       "count        1,238.00                1,238.00                  1,238.00   \n",
       "mean         7,363.31            8,641,332.91             25,710,850.90   \n",
       "std         10,583.66           13,791,542.41             64,807,921.12   \n",
       "min              0.00                    0.00                      0.00   \n",
       "25%          1,589.50            1,840,029.25              2,477,022.75   \n",
       "50%          3,631.00            3,349,503.50              6,706,231.50   \n",
       "75%          8,532.75            9,472,201.75             20,328,165.50   \n",
       "max         95,321.00          125,672,827.00          1,012,266,000.00   \n",
       "\n",
       "       TOTAL_SPENT_STUDENTSS     STATEGRANT       LOCAL_GRANT  \n",
       "count               1,238.00       1,238.00          1,238.00  \n",
       "mean           19,945,657.51  31,957,126.09    123,653,959.55  \n",
       "std            29,382,177.39  58,758,991.04    604,221,386.78  \n",
       "min                     0.00           0.00              0.00  \n",
       "25%             6,183,528.75   4,109,382.25              0.00  \n",
       "50%            11,511,319.50  14,854,064.50     25,631,975.50  \n",
       "75%            22,373,640.75  35,468,767.25     69,277,824.25  \n",
       "max           439,695,909.00 711,990,000.00 10,944,686,000.00  "
      ]
     },
     "execution_count": 40,
     "metadata": {},
     "output_type": "execute_result"
    }
   ],
   "source": [
    "data.describe()"
   ]
  },
  {
   "cell_type": "code",
   "execution_count": 41,
   "id": "edffe606",
   "metadata": {},
   "outputs": [],
   "source": [
    "data2  = data.replace(0, .5)"
   ]
  },
  {
   "cell_type": "code",
   "execution_count": 42,
   "id": "ea6da164",
   "metadata": {},
   "outputs": [
    {
     "data": {
      "text/plain": [
       "[]"
      ]
     },
     "execution_count": 42,
     "metadata": {},
     "output_type": "execute_result"
    },
    {
     "data": {
      "image/png": "[encoded data removed]",
      "text/plain": [
       "<Figure size 432x288 with 1 Axes>"
      ]
     },
     "metadata": {},
     "output_type": "display_data"
    }
   ],
   "source": [
    "sns.histplot(data = data, x=\"FEE1_INDISTRICT_UG\", hue=\"TYPE\")\n",
    "plt.title(' In-district required fees for undergraduates', fontsize=18)\n",
    "plt.xlabel('', fontsize=16)\n",
    "plt.ylabel('Frequency', fontsize=16)\n",
    "plt.plot()"
   ]
  },
  {
   "cell_type": "code",
   "execution_count": 43,
   "id": "ff89cb36",
   "metadata": {},
   "outputs": [
    {
     "data": {
      "text/plain": [
       "[<matplotlib.axis.XTick at 0x22b78986760>,\n",
       " <matplotlib.axis.XTick at 0x22b78986730>,\n",
       " <matplotlib.axis.XTick at 0x22b78ace940>,\n",
       " <matplotlib.axis.XTick at 0x22b78b8dd00>,\n",
       " <matplotlib.axis.XTick at 0x22b78b9c1c0>]"
      ]
     },
     "execution_count": 43,
     "metadata": {},
     "output_type": "execute_result"
    },
    {
     "data": {
      "image/png": "[encoded data removed]",
      "text/plain": [
       "<Figure size 504x360 with 1 Axes>"
      ]
     },
     "metadata": {},
     "output_type": "display_data"
    }
   ],
   "source": [
    "sns.set_theme(style=\"ticks\")\n",
    "\n",
    "diamonds = sns.load_dataset(\"diamonds\")\n",
    "\n",
    "f, ax = plt.subplots(figsize=(7, 5))\n",
    "sns.despine(f)\n",
    "\n",
    "x = data[\"FEE1_INDISTRICT_UG\"]\n",
    "y = data[\"STATE\"]\n",
    "sns.histplot(\n",
    "    diamonds,\n",
    "    x=x, hue=y,\n",
    "    multiple=\"stack\",\n",
    "    palette=\"light:m_r\",\n",
    "    edgecolor=\".3\",\n",
    "    linewidth=.5,\n",
    "    log_scale=True,\n",
    ")\n",
    "ax.xaxis.set_major_formatter(mpl.ticker.ScalarFormatter())\n",
    "\n",
    "ax.set_xticks([100,2000,4000,7000,12000])"
   ]
  },
  {
   "cell_type": "code",
   "execution_count": 44,
   "id": "eabbb178",
   "metadata": {},
   "outputs": [
    {
     "data": {
      "text/plain": [
       "[]"
      ]
     },
     "execution_count": 44,
     "metadata": {},
     "output_type": "execute_result"
    },
    {
     "data": {
      "image/png": "[encoded data removed]",
      "text/plain": [
       "<Figure size 432x288 with 1 Axes>"
      ]
     },
     "metadata": {},
     "output_type": "display_data"
    }
   ],
   "source": [
    "sns.histplot(data = data, x=\"NUM_APPS_ADMIT\", hue=\"TYPE\")\n",
    "plt.title('Number of Applicants Admitted', fontsize=18)\n",
    "\n",
    "plt.xlabel('', fontsize=16)\n",
    "plt.ylabel('Frequency', fontsize=16)\n",
    "plt.plot()"
   ]
  },
  {
   "cell_type": "code",
   "execution_count": 45,
   "id": "ef141e15",
   "metadata": {},
   "outputs": [
    {
     "data": {
      "text/plain": [
       "[<matplotlib.axis.XTick at 0x22b78586070>,\n",
       " <matplotlib.axis.XTick at 0x22b78586df0>,\n",
       " <matplotlib.axis.XTick at 0x22b78d1c3a0>]"
      ]
     },
     "execution_count": 45,
     "metadata": {},
     "output_type": "execute_result"
    },
    {
     "data": {
      "image/png": "[encoded data removed]",
      "text/plain": [
       "<Figure size 504x360 with 1 Axes>"
      ]
     },
     "metadata": {},
     "output_type": "display_data"
    }
   ],
   "source": [
    "sns.set_theme(style=\"ticks\")\n",
    "\n",
    "diamonds = sns.load_dataset(\"diamonds\")\n",
    "\n",
    "f, ax = plt.subplots(figsize=(7, 5))\n",
    "sns.despine(f)\n",
    "\n",
    "x = data2[\"FEE1_INDISTRICT_UG\"]\n",
    "y = data[\"STATE\"]\n",
    "sns.histplot(\n",
    "    diamonds,\n",
    "    x=x, hue=y,\n",
    "    multiple=\"stack\",\n",
    "    palette=\"light:m_r\",\n",
    "    edgecolor=\".3\",\n",
    "    linewidth=.5,\n",
    "    log_scale=True,\n",
    ")\n",
    "ax.xaxis.set_major_formatter(mpl.ticker.ScalarFormatter())\n",
    "\n",
    "ax.set_xticks([100,1000,20000])"
   ]
  },
  {
   "cell_type": "markdown",
   "id": "c4b93648",
   "metadata": {},
   "source": [
    "# Weird Distributions "
   ]
  },
  {
   "cell_type": "markdown",
   "id": "92f6ed28",
   "metadata": {},
   "source": [
    "# Categorical "
   ]
  },
  {
   "cell_type": "code",
   "execution_count": 46,
   "id": "b9e6ac20",
   "metadata": {},
   "outputs": [
    {
     "data": {
      "text/plain": [
       "[]"
      ]
     },
     "execution_count": 46,
     "metadata": {},
     "output_type": "execute_result"
    },
    {
     "data": {
      "image/png": "[encoded data removed]",
      "text/plain": [
       "<Figure size 504x360 with 1 Axes>"
      ]
     },
     "metadata": {},
     "output_type": "display_data"
    }
   ],
   "source": [
    "sns.set_theme(style=\"ticks\")\n",
    "\n",
    "diamonds = sns.load_dataset(\"diamonds\")\n",
    "\n",
    "f, ax = plt.subplots(figsize=(7, 5))\n",
    "sns.despine(f)\n",
    "\n",
    "x = data2[\"TOTAL_AMOUNT_PELL_TOUG\"]\n",
    "y = data[\"STATE\"]\n",
    "sns.histplot(\n",
    "    diamonds,\n",
    "    x=x, hue=y,\n",
    "    multiple=\"stack\",\n",
    "    palette=\"light:m_r\",\n",
    "    edgecolor=\".3\",\n",
    "    linewidth=.5,\n",
    "    log_scale=True,\n",
    ")\n",
    "ax.xaxis.set_major_formatter(mpl.ticker.ScalarFormatter())\n",
    "\n",
    "ax.set_xticks([])"
   ]
  },
  {
   "cell_type": "code",
   "execution_count": 47,
   "id": "47819a0b",
   "metadata": {},
   "outputs": [
    {
     "data": {
      "text/plain": [
       "[]"
      ]
     },
     "execution_count": 47,
     "metadata": {},
     "output_type": "execute_result"
    },
    {
     "data": {
      "image/png": "[encoded data removed]",
      "text/plain": [
       "<Figure size 504x360 with 1 Axes>"
      ]
     },
     "metadata": {},
     "output_type": "display_data"
    }
   ],
   "source": [
    "sns.set_theme(style=\"ticks\")\n",
    "\n",
    "diamonds = sns.load_dataset(\"diamonds\")\n",
    "\n",
    "f, ax = plt.subplots(figsize=(7, 5))\n",
    "sns.despine(f)\n",
    "\n",
    "x = data2[\"TOTAL_SPENT_ACADEMICSUPP\"]\n",
    "y = data[\"STATE\"]\n",
    "sns.histplot(\n",
    "    diamonds,\n",
    "    x=x, hue=y,\n",
    "    multiple=\"stack\",\n",
    "    palette=\"light:m_r\",\n",
    "    edgecolor=\".3\",\n",
    "    linewidth=.5,\n",
    "    log_scale=True,\n",
    ")\n",
    "ax.xaxis.set_major_formatter(mpl.ticker.ScalarFormatter())\n",
    "\n",
    "ax.set_xticks([])"
   ]
  },
  {
   "cell_type": "code",
   "execution_count": 48,
   "id": "cb62f553",
   "metadata": {},
   "outputs": [
    {
     "data": {
      "text/plain": [
       "Index(['UNITID', 'TYPE', 'TUITION1_INDISTRICT_UG', 'FEE1_INDISTRICT_UG',\n",
       "       'NUM_APPS_ADMIT', 'TOTAL_AMOUNT_PELL_TOUG', 'STATE',\n",
       "       'TOTAL_SPENT_ACADEMICSUPP', 'TOTAL_SPENT_STUDENTSS', 'STATEGRANT',\n",
       "       'LOCAL_GRANT'],\n",
       "      dtype='object')"
      ]
     },
     "execution_count": 48,
     "metadata": {},
     "output_type": "execute_result"
    }
   ],
   "source": [
    "data2.columns"
   ]
  },
  {
   "cell_type": "code",
   "execution_count": 49,
   "id": "84bd29be",
   "metadata": {},
   "outputs": [
    {
     "data": {
      "text/plain": [
       "[]"
      ]
     },
     "execution_count": 49,
     "metadata": {},
     "output_type": "execute_result"
    },
    {
     "data": {
      "image/png": "[encoded data removed]",
      "text/plain": [
       "<Figure size 504x360 with 1 Axes>"
      ]
     },
     "metadata": {},
     "output_type": "display_data"
    }
   ],
   "source": [
    "sns.set_theme(style=\"ticks\")\n",
    "\n",
    "diamonds = sns.load_dataset(\"diamonds\")\n",
    "\n",
    "f, ax = plt.subplots(figsize=(7, 5))\n",
    "sns.despine(f)\n",
    "\n",
    "x = data2['TOTAL_SPENT_STUDENTSS']\n",
    "y = data[\"STATE\"]\n",
    "sns.histplot(\n",
    "    diamonds,\n",
    "    x=x, hue=y,\n",
    "    multiple=\"stack\",\n",
    "    palette=\"light:m_r\",\n",
    "    edgecolor=\".3\",\n",
    "    linewidth=.5,\n",
    "    log_scale=True,\n",
    ")\n",
    "ax.xaxis.set_major_formatter(mpl.ticker.ScalarFormatter())\n",
    "\n",
    "ax.set_xticks([])"
   ]
  },
  {
   "cell_type": "code",
   "execution_count": 50,
   "id": "44c4765e",
   "metadata": {},
   "outputs": [
    {
     "data": {
      "text/plain": [
       "[]"
      ]
     },
     "execution_count": 50,
     "metadata": {},
     "output_type": "execute_result"
    },
    {
     "data": {
      "image/png": "[encoded data removed]",
      "text/plain": [
       "<Figure size 504x360 with 1 Axes>"
      ]
     },
     "metadata": {},
     "output_type": "display_data"
    }
   ],
   "source": [
    "sns.set_theme(style=\"ticks\")\n",
    "\n",
    "diamonds = sns.load_dataset(\"diamonds\")\n",
    "\n",
    "f, ax = plt.subplots(figsize=(7, 5))\n",
    "sns.despine(f)\n",
    "\n",
    "x = data2['STATEGRANT']\n",
    "y = data[\"STATE\"]\n",
    "sns.histplot(\n",
    "    diamonds,\n",
    "    x=x, hue=y,\n",
    "    multiple=\"stack\",\n",
    "    palette=\"light:m_r\",\n",
    "    edgecolor=\".3\",\n",
    "    linewidth=.5,\n",
    "    log_scale=True,\n",
    ")\n",
    "ax.xaxis.set_major_formatter(mpl.ticker.ScalarFormatter())\n",
    "\n",
    "ax.set_xticks([])"
   ]
  },
  {
   "cell_type": "code",
   "execution_count": 51,
   "id": "56521bc1",
   "metadata": {},
   "outputs": [
    {
     "data": {
      "text/plain": [
       "[]"
      ]
     },
     "execution_count": 51,
     "metadata": {},
     "output_type": "execute_result"
    },
    {
     "data": {
      "image/png": "[encoded data removed]",
      "text/plain": [
       "<Figure size 504x360 with 1 Axes>"
      ]
     },
     "metadata": {},
     "output_type": "display_data"
    }
   ],
   "source": [
    "sns.set_theme(style=\"ticks\")\n",
    "\n",
    "diamonds = sns.load_dataset(\"diamonds\")\n",
    "\n",
    "f, ax = plt.subplots(figsize=(7, 5))\n",
    "sns.despine(f)\n",
    "\n",
    "x = data2[\"LOCAL_GRANT\"]\n",
    "y = data[\"STATE\"]\n",
    "sns.histplot(\n",
    "    diamonds,\n",
    "    x=x, hue=y,\n",
    "    multiple=\"stack\",\n",
    "    palette=\"light:m_r\",\n",
    "    edgecolor=\".3\",\n",
    "    linewidth=.5,\n",
    "    log_scale=True,\n",
    ")\n",
    "ax.xaxis.set_major_formatter(mpl.ticker.ScalarFormatter())\n",
    "\n",
    "ax.set_xticks([])"
   ]
  },
  {
   "cell_type": "code",
   "execution_count": null,
   "id": "b499a427",
   "metadata": {},
   "outputs": [],
   "source": []
  },
  {
   "cell_type": "code",
   "execution_count": 52,
   "id": "d43cc151",
   "metadata": {},
   "outputs": [
    {
     "data": {
      "text/html": [
       "<div>\n",
       "<style scoped>\n",
       "    .dataframe tbody tr th:only-of-type {\n",
       "        vertical-align: middle;\n",
       "    }\n",
       "\n",
       "    .dataframe tbody tr th {\n",
       "        vertical-align: top;\n",
       "    }\n",
       "\n",
       "    .dataframe thead th {\n",
       "        text-align: right;\n",
       "    }\n",
       "</style>\n",
       "<table border=\"1\" class=\"dataframe\">\n",
       "  <thead>\n",
       "    <tr style=\"text-align: right;\">\n",
       "      <th></th>\n",
       "      <th>TYPE</th>\n",
       "      <th>STATE</th>\n",
       "    </tr>\n",
       "  </thead>\n",
       "  <tbody>\n",
       "    <tr>\n",
       "      <th>0</th>\n",
       "      <td>1</td>\n",
       "      <td>SOUTH</td>\n",
       "    </tr>\n",
       "    <tr>\n",
       "      <th>1</th>\n",
       "      <td>1</td>\n",
       "      <td>SOUTH</td>\n",
       "    </tr>\n",
       "    <tr>\n",
       "      <th>2</th>\n",
       "      <td>1</td>\n",
       "      <td>SOUTH</td>\n",
       "    </tr>\n",
       "    <tr>\n",
       "      <th>3</th>\n",
       "      <td>1</td>\n",
       "      <td>SOUTH</td>\n",
       "    </tr>\n",
       "    <tr>\n",
       "      <th>4</th>\n",
       "      <td>1</td>\n",
       "      <td>SOUTH</td>\n",
       "    </tr>\n",
       "    <tr>\n",
       "      <th>...</th>\n",
       "      <td>...</td>\n",
       "      <td>...</td>\n",
       "    </tr>\n",
       "    <tr>\n",
       "      <th>1234</th>\n",
       "      <td>0</td>\n",
       "      <td>NORTH</td>\n",
       "    </tr>\n",
       "    <tr>\n",
       "      <th>1235</th>\n",
       "      <td>0</td>\n",
       "      <td>NORTH</td>\n",
       "    </tr>\n",
       "    <tr>\n",
       "      <th>1236</th>\n",
       "      <td>0</td>\n",
       "      <td>NORTH</td>\n",
       "    </tr>\n",
       "    <tr>\n",
       "      <th>1237</th>\n",
       "      <td>0</td>\n",
       "      <td>MidWest</td>\n",
       "    </tr>\n",
       "    <tr>\n",
       "      <th>1238</th>\n",
       "      <td>1</td>\n",
       "      <td>NORTH</td>\n",
       "    </tr>\n",
       "  </tbody>\n",
       "</table>\n",
       "<p>1239 rows × 2 columns</p>\n",
       "</div>"
      ],
      "text/plain": [
       "      TYPE    STATE\n",
       "0        1    SOUTH\n",
       "1        1    SOUTH\n",
       "2        1    SOUTH\n",
       "3        1    SOUTH\n",
       "4        1    SOUTH\n",
       "...    ...      ...\n",
       "1234     0    NORTH\n",
       "1235     0    NORTH\n",
       "1236     0    NORTH\n",
       "1237     0  MidWest\n",
       "1238     1    NORTH\n",
       "\n",
       "[1239 rows x 2 columns]"
      ]
     },
     "execution_count": 52,
     "metadata": {},
     "output_type": "execute_result"
    }
   ],
   "source": [
    "catdata"
   ]
  },
  {
   "cell_type": "markdown",
   "id": "05974e1b",
   "metadata": {},
   "source": [
    "# TYPE"
   ]
  },
  {
   "cell_type": "code",
   "execution_count": 53,
   "id": "24c98d29",
   "metadata": {},
   "outputs": [
    {
     "data": {
      "image/png": "[encoded data removed]",
      "text/plain": [
       "<Figure size 432x288 with 1 Axes>"
      ]
     },
     "metadata": {},
     "output_type": "display_data"
    }
   ],
   "source": [
    "x = ['Public',\"Private\"]\n",
    "y = [436,803]\n",
    "plt.title(\"Type of University\")\n",
    "colors = [\"#6FA5A8\",\"#F6E1D3\"]\n",
    "sns.set(font_scale = 1.30)\n",
    "#create pie chart\n",
    "plt.pie(y, labels = x, colors = colors, autopct='%.0f%%')\n",
    "plt.show()"
   ]
  },
  {
   "cell_type": "code",
   "execution_count": 54,
   "id": "3db40447",
   "metadata": {},
   "outputs": [
    {
     "data": {
      "text/plain": [
       "<seaborn.axisgrid.FacetGrid at 0x22b79196580>"
      ]
     },
     "execution_count": 54,
     "metadata": {},
     "output_type": "execute_result"
    },
    {
     "data": {
      "image/png": "[encoded data removed]",
      "text/plain": [
       "<Figure size 648x432 with 6 Axes>"
      ]
     },
     "metadata": {},
     "output_type": "display_data"
    }
   ],
   "source": [
    "df = sns.load_dataset(\"penguins\")\n",
    "sns.displot(\n",
    "    df, x=\"flipper_length_mm\", col=\"species\", row=\"sex\",\n",
    "    binwidth=3, height=3, facet_kws=dict(margin_titles=True),\n",
    ")"
   ]
  },
  {
   "cell_type": "markdown",
   "id": "8b97a77f",
   "metadata": {},
   "source": [
    "# STATE GRIDS "
   ]
  },
  {
   "cell_type": "code",
   "execution_count": 126,
   "id": "4485a6c6",
   "metadata": {},
   "outputs": [],
   "source": [
    "data= data.rename(columns={'TOTAL_AMOUNT_PELL_TOUG': 'TotalPell'})"
   ]
  },
  {
   "cell_type": "code",
   "execution_count": 142,
   "id": "da5cdb66",
   "metadata": {},
   "outputs": [
    {
     "data": {
      "text/plain": [
       "Index(['UNITID', 'TYPE', 'Tuition', 'Fees', 'NumberApplicants', 'TotalPell',\n",
       "       'STATE', 'Academic Support', 'StudentSupport', 'STATEGRANT',\n",
       "       'LOCAL_GRANT'],\n",
       "      dtype='object')"
      ]
     },
     "execution_count": 142,
     "metadata": {},
     "output_type": "execute_result"
    }
   ],
   "source": [
    "data.columns"
   ]
  },
  {
   "cell_type": "code",
   "execution_count": 129,
   "id": "fc198fbe",
   "metadata": {},
   "outputs": [
    {
     "data": {
      "text/plain": [
       "<seaborn.axisgrid.FacetGrid at 0x22b0d242d90>"
      ]
     },
     "execution_count": 129,
     "metadata": {},
     "output_type": "execute_result"
    },
    {
     "data": {
      "image/png": "[encoded data removed]",
      "text/plain": [
       "<Figure size 1440x288 with 5 Axes>"
      ]
     },
     "metadata": {},
     "output_type": "display_data"
    }
   ],
   "source": [
    "df = data\n",
    "sns.displot(\n",
    "    data, x='TotalPell', col=\"STATE\", color=\"r\",bins=40, height=4, facet_kws=dict(margin_titles=True)\n",
    ")\n"
   ]
  },
  {
   "cell_type": "code",
   "execution_count": 131,
   "id": "38c79334",
   "metadata": {},
   "outputs": [],
   "source": [
    "data= data.rename(columns={'TUITION1_INDISTRICT_UG': 'Tuition'})"
   ]
  },
  {
   "cell_type": "code",
   "execution_count": 132,
   "id": "dcf27954",
   "metadata": {},
   "outputs": [
    {
     "data": {
      "text/plain": [
       "<seaborn.axisgrid.FacetGrid at 0x22b063be340>"
      ]
     },
     "execution_count": 132,
     "metadata": {},
     "output_type": "execute_result"
    },
    {
     "data": {
      "image/png": "[encoded data removed]",
      "text/plain": [
       "<Figure size 1440x288 with 5 Axes>"
      ]
     },
     "metadata": {},
     "output_type": "display_data"
    }
   ],
   "source": [
    "df = data\n",
    "sns.displot(\n",
    "    data, x='Tuition' , color=\"r\",col=\"STATE\",bins=40, height=4, facet_kws=dict(margin_titles=True),\n",
    ")"
   ]
  },
  {
   "cell_type": "code",
   "execution_count": 133,
   "id": "9cc61fe6",
   "metadata": {},
   "outputs": [],
   "source": [
    "data= data.rename(columns={'FEE1_INDISTRICT_UG': 'Fees'})"
   ]
  },
  {
   "cell_type": "code",
   "execution_count": 135,
   "id": "e81cbd41",
   "metadata": {},
   "outputs": [
    {
     "data": {
      "text/plain": [
       "<seaborn.axisgrid.FacetGrid at 0x22b0aa953d0>"
      ]
     },
     "execution_count": 135,
     "metadata": {},
     "output_type": "execute_result"
    },
    {
     "data": {
      "image/png": "[encoded data removed]",
      "text/plain": [
       "<Figure size 1440x288 with 5 Axes>"
      ]
     },
     "metadata": {},
     "output_type": "display_data"
    }
   ],
   "source": [
    "df = data\n",
    "sns.displot(\n",
    "    data, x=\"Fees\", color=\"r\",col=\"STATE\",bins=40, height=4, facet_kws=dict(margin_titles=True),\n",
    ")"
   ]
  },
  {
   "cell_type": "code",
   "execution_count": 136,
   "id": "f6407d5f",
   "metadata": {},
   "outputs": [],
   "source": [
    "data= data.rename(columns={'NUM_APPS_ADMIT': 'NumberApplicants'})"
   ]
  },
  {
   "cell_type": "code",
   "execution_count": 137,
   "id": "b05ebff8",
   "metadata": {},
   "outputs": [
    {
     "data": {
      "text/plain": [
       "<seaborn.axisgrid.FacetGrid at 0x22b0e3e2dc0>"
      ]
     },
     "execution_count": 137,
     "metadata": {},
     "output_type": "execute_result"
    },
    {
     "data": {
      "image/png": "[encoded data removed]",
      "text/plain": [
       "<Figure size 1440x288 with 5 Axes>"
      ]
     },
     "metadata": {},
     "output_type": "display_data"
    }
   ],
   "source": [
    "df = data\n",
    "sns.displot(\n",
    "    data, x='NumberApplicants' , color=\"r\",col=\"STATE\",bins=40, height=4, facet_kws=dict(margin_titles=True),\n",
    ")"
   ]
  },
  {
   "cell_type": "code",
   "execution_count": 121,
   "id": "85693c5a",
   "metadata": {},
   "outputs": [],
   "source": [
    "data= data.rename(columns={'TOTAL_SPENT_ACADEMICSUPP': 'Academic Support'})"
   ]
  },
  {
   "cell_type": "code",
   "execution_count": 123,
   "id": "2197c8d1",
   "metadata": {},
   "outputs": [
    {
     "data": {
      "text/plain": [
       "<seaborn.axisgrid.FacetGrid at 0x22b0caa5f70>"
      ]
     },
     "execution_count": 123,
     "metadata": {},
     "output_type": "execute_result"
    },
    {
     "data": {
      "image/png": "[encoded data removed]",
      "text/plain": [
       "<Figure size 1440x288 with 5 Axes>"
      ]
     },
     "metadata": {},
     "output_type": "display_data"
    }
   ],
   "source": [
    "df = data\n",
    "sns.displot(\n",
    "    data, x='Academic Support' , color=\"r\",col=\"STATE\",bins=40, height=4, facet_kws=dict(margin_titles=True),\n",
    ")"
   ]
  },
  {
   "cell_type": "code",
   "execution_count": 138,
   "id": "8f314b1f",
   "metadata": {},
   "outputs": [],
   "source": [
    "data= data.rename(columns={'TOTAL_SPENT_STUDENTSS': 'StudentSupport'})"
   ]
  },
  {
   "cell_type": "code",
   "execution_count": 141,
   "id": "65b8d030",
   "metadata": {},
   "outputs": [
    {
     "data": {
      "text/plain": [
       "<seaborn.axisgrid.FacetGrid at 0x22b102e9f10>"
      ]
     },
     "execution_count": 141,
     "metadata": {},
     "output_type": "execute_result"
    },
    {
     "data": {
      "image/png": "[encoded data removed]",
      "text/plain": [
       "<Figure size 1440x288 with 5 Axes>"
      ]
     },
     "metadata": {},
     "output_type": "display_data"
    }
   ],
   "source": [
    "df = data\n",
    "sns.displot(\n",
    "    data, x='StudentSupport' , color=\"r\",col=\"STATE\",bins=40, height=4, facet_kws=dict(margin_titles=True),\n",
    ")"
   ]
  },
  {
   "cell_type": "code",
   "execution_count": 98,
   "id": "4c8e2db9",
   "metadata": {},
   "outputs": [
    {
     "data": {
      "text/plain": [
       "<seaborn.axisgrid.FacetGrid at 0x22b05afdfa0>"
      ]
     },
     "execution_count": 98,
     "metadata": {},
     "output_type": "execute_result"
    },
    {
     "data": {
      "image/png": "[encoded data removed]",
      "text/plain": [
       "<Figure size 1440x288 with 5 Axes>"
      ]
     },
     "metadata": {},
     "output_type": "display_data"
    }
   ],
   "source": [
    "df = data\n",
    "sns.displot(\n",
    "    data, x='STATEGRANT' , color=\"r\",col=\"STATE\",bins=40, height=4, facet_kws=dict(margin_titles=True),\n",
    ")"
   ]
  },
  {
   "cell_type": "code",
   "execution_count": 99,
   "id": "4a3b89d8",
   "metadata": {},
   "outputs": [
    {
     "data": {
      "text/plain": [
       "<seaborn.axisgrid.FacetGrid at 0x22b0526e2e0>"
      ]
     },
     "execution_count": 99,
     "metadata": {},
     "output_type": "execute_result"
    },
    {
     "data": {
      "image/png": "[encoded data removed]",
      "text/plain": [
       "<Figure size 1440x288 with 5 Axes>"
      ]
     },
     "metadata": {},
     "output_type": "display_data"
    }
   ],
   "source": [
    "df = data\n",
    "sns.displot(\n",
    "    data, x='LOCAL_GRANT' , color=\"r\",col=\"STATE\",bins=40, height=4, facet_kws=dict(margin_titles=True),\n",
    ")"
   ]
  },
  {
   "cell_type": "markdown",
   "id": "4a3762c0",
   "metadata": {},
   "source": [
    "# For Profit"
   ]
  },
  {
   "cell_type": "markdown",
   "id": "0f7c29a4",
   "metadata": {},
   "source": [
    "# Categorical and Numeric "
   ]
  },
  {
   "cell_type": "code",
   "execution_count": 55,
   "id": "2e6d9a3b",
   "metadata": {},
   "outputs": [],
   "source": [
    "catdf = pd.DataFrame([])\n",
    "for col in catcols:\n",
    "    for num in numcols:\n",
    "        category = data.groupby(col)[num].describe()\n",
    "        category['coefvar'] =category['std'] / category['mean']\n",
    "        category['NumericalCategory'] = num\n",
    "        category['category'] = col\n",
    "        catdf = catdf.append(category)\n",
    "        "
   ]
  },
  {
   "cell_type": "markdown",
   "id": "fa3eba4d",
   "metadata": {},
   "source": [
    "# Categories with the biggest difference"
   ]
  },
  {
   "cell_type": "code",
   "execution_count": 56,
   "id": "545fb811",
   "metadata": {
    "scrolled": true
   },
   "outputs": [
    {
     "data": {
      "text/html": [
       "<div>\n",
       "<style scoped>\n",
       "    .dataframe tbody tr th:only-of-type {\n",
       "        vertical-align: middle;\n",
       "    }\n",
       "\n",
       "    .dataframe tbody tr th {\n",
       "        vertical-align: top;\n",
       "    }\n",
       "\n",
       "    .dataframe thead th {\n",
       "        text-align: right;\n",
       "    }\n",
       "</style>\n",
       "<table border=\"1\" class=\"dataframe\">\n",
       "  <thead>\n",
       "    <tr style=\"text-align: right;\">\n",
       "      <th></th>\n",
       "      <th>count</th>\n",
       "      <th>mean</th>\n",
       "      <th>std</th>\n",
       "      <th>min</th>\n",
       "      <th>25%</th>\n",
       "      <th>50%</th>\n",
       "      <th>75%</th>\n",
       "      <th>max</th>\n",
       "      <th>coefvar</th>\n",
       "      <th>NumericalCategory</th>\n",
       "      <th>category</th>\n",
       "    </tr>\n",
       "  </thead>\n",
       "  <tbody>\n",
       "    <tr>\n",
       "      <th>0</th>\n",
       "      <td>803.00</td>\n",
       "      <td>33,494.89</td>\n",
       "      <td>12,462.90</td>\n",
       "      <td>4,776.00</td>\n",
       "      <td>25,573.00</td>\n",
       "      <td>32,900.00</td>\n",
       "      <td>41,750.00</td>\n",
       "      <td>60,872.00</td>\n",
       "      <td>0.37</td>\n",
       "      <td>TUITION1_INDISTRICT_UG</td>\n",
       "      <td>TYPE</td>\n",
       "    </tr>\n",
       "    <tr>\n",
       "      <th>1</th>\n",
       "      <td>435.00</td>\n",
       "      <td>7,620.15</td>\n",
       "      <td>3,025.75</td>\n",
       "      <td>910.00</td>\n",
       "      <td>5,742.00</td>\n",
       "      <td>7,158.00</td>\n",
       "      <td>9,100.00</td>\n",
       "      <td>18,628.00</td>\n",
       "      <td>0.40</td>\n",
       "      <td>TUITION1_INDISTRICT_UG</td>\n",
       "      <td>TYPE</td>\n",
       "    </tr>\n",
       "    <tr>\n",
       "      <th>0</th>\n",
       "      <td>803.00</td>\n",
       "      <td>1,101.12</td>\n",
       "      <td>873.93</td>\n",
       "      <td>34.00</td>\n",
       "      <td>540.00</td>\n",
       "      <td>910.00</td>\n",
       "      <td>1,380.00</td>\n",
       "      <td>6,876.00</td>\n",
       "      <td>0.79</td>\n",
       "      <td>FEE1_INDISTRICT_UG</td>\n",
       "      <td>TYPE</td>\n",
       "    </tr>\n",
       "    <tr>\n",
       "      <th>1</th>\n",
       "      <td>435.00</td>\n",
       "      <td>2,127.90</td>\n",
       "      <td>1,616.80</td>\n",
       "      <td>20.00</td>\n",
       "      <td>1,240.50</td>\n",
       "      <td>1,786.00</td>\n",
       "      <td>2,665.00</td>\n",
       "      <td>13,170.00</td>\n",
       "      <td>0.76</td>\n",
       "      <td>FEE1_INDISTRICT_UG</td>\n",
       "      <td>TYPE</td>\n",
       "    </tr>\n",
       "    <tr>\n",
       "      <th>0</th>\n",
       "      <td>803.00</td>\n",
       "      <td>4,880.70</td>\n",
       "      <td>8,152.72</td>\n",
       "      <td>0.00</td>\n",
       "      <td>1,232.50</td>\n",
       "      <td>2,458.00</td>\n",
       "      <td>5,035.50</td>\n",
       "      <td>80,210.00</td>\n",
       "      <td>1.67</td>\n",
       "      <td>NUM_APPS_ADMIT</td>\n",
       "      <td>TYPE</td>\n",
       "    </tr>\n",
       "    <tr>\n",
       "      <th>1</th>\n",
       "      <td>435.00</td>\n",
       "      <td>11,946.15</td>\n",
       "      <td>12,805.67</td>\n",
       "      <td>81.00</td>\n",
       "      <td>3,721.00</td>\n",
       "      <td>7,496.00</td>\n",
       "      <td>15,039.00</td>\n",
       "      <td>95,321.00</td>\n",
       "      <td>1.07</td>\n",
       "      <td>NUM_APPS_ADMIT</td>\n",
       "      <td>TYPE</td>\n",
       "    </tr>\n",
       "    <tr>\n",
       "      <th>0</th>\n",
       "      <td>803.00</td>\n",
       "      <td>3,402,996.16</td>\n",
       "      <td>7,366,935.51</td>\n",
       "      <td>0.00</td>\n",
       "      <td>1,451,446.50</td>\n",
       "      <td>2,227,385.00</td>\n",
       "      <td>3,512,046.00</td>\n",
       "      <td>125,672,827.00</td>\n",
       "      <td>2.16</td>\n",
       "      <td>TOTAL_AMOUNT_PELL_TOUG</td>\n",
       "      <td>TYPE</td>\n",
       "    </tr>\n",
       "    <tr>\n",
       "      <th>1</th>\n",
       "      <td>435.00</td>\n",
       "      <td>18,311,182.12</td>\n",
       "      <td>17,243,854.23</td>\n",
       "      <td>849,981.00</td>\n",
       "      <td>7,208,631.00</td>\n",
       "      <td>13,341,998.00</td>\n",
       "      <td>23,250,161.50</td>\n",
       "      <td>112,894,409.00</td>\n",
       "      <td>0.94</td>\n",
       "      <td>TOTAL_AMOUNT_PELL_TOUG</td>\n",
       "      <td>TYPE</td>\n",
       "    </tr>\n",
       "    <tr>\n",
       "      <th>0</th>\n",
       "      <td>803.00</td>\n",
       "      <td>14,893,083.99</td>\n",
       "      <td>57,342,958.78</td>\n",
       "      <td>0.00</td>\n",
       "      <td>1,639,914.50</td>\n",
       "      <td>3,916,405.00</td>\n",
       "      <td>9,511,890.00</td>\n",
       "      <td>1,012,266,000.00</td>\n",
       "      <td>3.85</td>\n",
       "      <td>TOTAL_SPENT_ACADEMICSUPP</td>\n",
       "      <td>TYPE</td>\n",
       "    </tr>\n",
       "    <tr>\n",
       "      <th>1</th>\n",
       "      <td>435.00</td>\n",
       "      <td>45,680,199.94</td>\n",
       "      <td>72,653,724.64</td>\n",
       "      <td>416,254.00</td>\n",
       "      <td>8,879,144.50</td>\n",
       "      <td>19,926,777.00</td>\n",
       "      <td>48,793,764.00</td>\n",
       "      <td>525,499,169.00</td>\n",
       "      <td>1.59</td>\n",
       "      <td>TOTAL_SPENT_ACADEMICSUPP</td>\n",
       "      <td>TYPE</td>\n",
       "    </tr>\n",
       "    <tr>\n",
       "      <th>0</th>\n",
       "      <td>803.00</td>\n",
       "      <td>16,604,801.29</td>\n",
       "      <td>30,274,108.32</td>\n",
       "      <td>0.00</td>\n",
       "      <td>5,174,872.00</td>\n",
       "      <td>9,548,142.00</td>\n",
       "      <td>16,326,426.00</td>\n",
       "      <td>439,695,909.00</td>\n",
       "      <td>1.82</td>\n",
       "      <td>TOTAL_SPENT_STUDENTSS</td>\n",
       "      <td>TYPE</td>\n",
       "    </tr>\n",
       "    <tr>\n",
       "      <th>1</th>\n",
       "      <td>435.00</td>\n",
       "      <td>26,112,801.29</td>\n",
       "      <td>26,612,072.42</td>\n",
       "      <td>1,415,848.00</td>\n",
       "      <td>9,195,969.00</td>\n",
       "      <td>18,387,439.00</td>\n",
       "      <td>32,420,622.50</td>\n",
       "      <td>199,568,000.00</td>\n",
       "      <td>1.02</td>\n",
       "      <td>TOTAL_SPENT_STUDENTSS</td>\n",
       "      <td>TYPE</td>\n",
       "    </tr>\n",
       "    <tr>\n",
       "      <th>0</th>\n",
       "      <td>803.00</td>\n",
       "      <td>41,909,964.15</td>\n",
       "      <td>68,244,404.57</td>\n",
       "      <td>0.00</td>\n",
       "      <td>10,476,405.00</td>\n",
       "      <td>22,768,560.00</td>\n",
       "      <td>44,807,968.00</td>\n",
       "      <td>711,990,000.00</td>\n",
       "      <td>1.63</td>\n",
       "      <td>STATEGRANT</td>\n",
       "      <td>TYPE</td>\n",
       "    </tr>\n",
       "    <tr>\n",
       "      <th>1</th>\n",
       "      <td>435.00</td>\n",
       "      <td>13,584,415.83</td>\n",
       "      <td>26,698,292.99</td>\n",
       "      <td>0.00</td>\n",
       "      <td>1,203,971.00</td>\n",
       "      <td>4,989,023.00</td>\n",
       "      <td>13,982,242.00</td>\n",
       "      <td>234,169,000.00</td>\n",
       "      <td>1.97</td>\n",
       "      <td>STATEGRANT</td>\n",
       "      <td>TYPE</td>\n",
       "    </tr>\n",
       "    <tr>\n",
       "      <th>0</th>\n",
       "      <td>803.00</td>\n",
       "      <td>172,343,795.92</td>\n",
       "      <td>678,610,220.48</td>\n",
       "      <td>668,084.00</td>\n",
       "      <td>26,638,062.00</td>\n",
       "      <td>51,192,900.00</td>\n",
       "      <td>100,197,191.00</td>\n",
       "      <td>10,944,686,000.00</td>\n",
       "      <td>3.94</td>\n",
       "      <td>LOCAL_GRANT</td>\n",
       "      <td>TYPE</td>\n",
       "    </tr>\n",
       "    <tr>\n",
       "      <th>1</th>\n",
       "      <td>435.00</td>\n",
       "      <td>33,773,640.90</td>\n",
       "      <td>420,828,604.03</td>\n",
       "      <td>0.00</td>\n",
       "      <td>0.00</td>\n",
       "      <td>0.00</td>\n",
       "      <td>0.00</td>\n",
       "      <td>7,653,947,000.00</td>\n",
       "      <td>12.46</td>\n",
       "      <td>LOCAL_GRANT</td>\n",
       "      <td>TYPE</td>\n",
       "    </tr>\n",
       "  </tbody>\n",
       "</table>\n",
       "</div>"
      ],
      "text/plain": [
       "   count           mean            std          min           25%  \\\n",
       "0 803.00      33,494.89      12,462.90     4,776.00     25,573.00   \n",
       "1 435.00       7,620.15       3,025.75       910.00      5,742.00   \n",
       "0 803.00       1,101.12         873.93        34.00        540.00   \n",
       "1 435.00       2,127.90       1,616.80        20.00      1,240.50   \n",
       "0 803.00       4,880.70       8,152.72         0.00      1,232.50   \n",
       "1 435.00      11,946.15      12,805.67        81.00      3,721.00   \n",
       "0 803.00   3,402,996.16   7,366,935.51         0.00  1,451,446.50   \n",
       "1 435.00  18,311,182.12  17,243,854.23   849,981.00  7,208,631.00   \n",
       "0 803.00  14,893,083.99  57,342,958.78         0.00  1,639,914.50   \n",
       "1 435.00  45,680,199.94  72,653,724.64   416,254.00  8,879,144.50   \n",
       "0 803.00  16,604,801.29  30,274,108.32         0.00  5,174,872.00   \n",
       "1 435.00  26,112,801.29  26,612,072.42 1,415,848.00  9,195,969.00   \n",
       "0 803.00  41,909,964.15  68,244,404.57         0.00 10,476,405.00   \n",
       "1 435.00  13,584,415.83  26,698,292.99         0.00  1,203,971.00   \n",
       "0 803.00 172,343,795.92 678,610,220.48   668,084.00 26,638,062.00   \n",
       "1 435.00  33,773,640.90 420,828,604.03         0.00          0.00   \n",
       "\n",
       "            50%            75%               max  coefvar  \\\n",
       "0     32,900.00      41,750.00         60,872.00     0.37   \n",
       "1      7,158.00       9,100.00         18,628.00     0.40   \n",
       "0        910.00       1,380.00          6,876.00     0.79   \n",
       "1      1,786.00       2,665.00         13,170.00     0.76   \n",
       "0      2,458.00       5,035.50         80,210.00     1.67   \n",
       "1      7,496.00      15,039.00         95,321.00     1.07   \n",
       "0  2,227,385.00   3,512,046.00    125,672,827.00     2.16   \n",
       "1 13,341,998.00  23,250,161.50    112,894,409.00     0.94   \n",
       "0  3,916,405.00   9,511,890.00  1,012,266,000.00     3.85   \n",
       "1 19,926,777.00  48,793,764.00    525,499,169.00     1.59   \n",
       "0  9,548,142.00  16,326,426.00    439,695,909.00     1.82   \n",
       "1 18,387,439.00  32,420,622.50    199,568,000.00     1.02   \n",
       "0 22,768,560.00  44,807,968.00    711,990,000.00     1.63   \n",
       "1  4,989,023.00  13,982,242.00    234,169,000.00     1.97   \n",
       "0 51,192,900.00 100,197,191.00 10,944,686,000.00     3.94   \n",
       "1          0.00           0.00  7,653,947,000.00    12.46   \n",
       "\n",
       "          NumericalCategory category  \n",
       "0    TUITION1_INDISTRICT_UG     TYPE  \n",
       "1    TUITION1_INDISTRICT_UG     TYPE  \n",
       "0        FEE1_INDISTRICT_UG     TYPE  \n",
       "1        FEE1_INDISTRICT_UG     TYPE  \n",
       "0            NUM_APPS_ADMIT     TYPE  \n",
       "1            NUM_APPS_ADMIT     TYPE  \n",
       "0    TOTAL_AMOUNT_PELL_TOUG     TYPE  \n",
       "1    TOTAL_AMOUNT_PELL_TOUG     TYPE  \n",
       "0  TOTAL_SPENT_ACADEMICSUPP     TYPE  \n",
       "1  TOTAL_SPENT_ACADEMICSUPP     TYPE  \n",
       "0     TOTAL_SPENT_STUDENTSS     TYPE  \n",
       "1     TOTAL_SPENT_STUDENTSS     TYPE  \n",
       "0                STATEGRANT     TYPE  \n",
       "1                STATEGRANT     TYPE  \n",
       "0               LOCAL_GRANT     TYPE  \n",
       "1               LOCAL_GRANT     TYPE  "
      ]
     },
     "execution_count": 56,
     "metadata": {},
     "output_type": "execute_result"
    }
   ],
   "source": [
    "catdf[0:16]"
   ]
  },
  {
   "cell_type": "code",
   "execution_count": 57,
   "id": "cdd38d4c",
   "metadata": {},
   "outputs": [
    {
     "data": {
      "text/plain": [
       "['TUITION1_INDISTRICT_UG',\n",
       " 'FEE1_INDISTRICT_UG',\n",
       " 'NUM_APPS_ADMIT',\n",
       " 'TOTAL_AMOUNT_PELL_TOUG',\n",
       " 'TOTAL_SPENT_ACADEMICSUPP',\n",
       " 'TOTAL_SPENT_STUDENTSS',\n",
       " 'STATEGRANT',\n",
       " 'LOCAL_GRANT']"
      ]
     },
     "execution_count": 57,
     "metadata": {},
     "output_type": "execute_result"
    }
   ],
   "source": [
    "numcols"
   ]
  },
  {
   "cell_type": "code",
   "execution_count": 58,
   "id": "f49518db",
   "metadata": {},
   "outputs": [
    {
     "data": {
      "text/plain": [
       "['TYPE', 'STATE']"
      ]
     },
     "execution_count": 58,
     "metadata": {},
     "output_type": "execute_result"
    }
   ],
   "source": [
    "catcols"
   ]
  },
  {
   "cell_type": "markdown",
   "id": "08ab4997",
   "metadata": {},
   "source": [
    "# TYPE "
   ]
  },
  {
   "cell_type": "code",
   "execution_count": 59,
   "id": "217505e4",
   "metadata": {},
   "outputs": [
    {
     "data": {
      "text/plain": [
       "[]"
      ]
     },
     "execution_count": 59,
     "metadata": {},
     "output_type": "execute_result"
    },
    {
     "data": {
      "image/png": "[encoded data removed]",
      "text/plain": [
       "<Figure size 432x288 with 1 Axes>"
      ]
     },
     "metadata": {},
     "output_type": "display_data"
    }
   ],
   "source": [
    "sns.set_style(style='white')\n",
    "ax = sns.boxplot(x=\"TYPE\", y=\"TUITION1_INDISTRICT_UG\", data=data,palette=\"Set3\",linewidth =1.75)\n",
    "plt.xlabel('TYPE', fontsize=14)\n",
    "plt.ylabel('Dollars', fontsize=14)\n",
    "plt.title('Average Tuition Amount', fontsize=14)\n",
    "plt.plot()"
   ]
  },
  {
   "cell_type": "code",
   "execution_count": 60,
   "id": "7d1ee5e9",
   "metadata": {},
   "outputs": [
    {
     "data": {
      "text/plain": [
       "[]"
      ]
     },
     "execution_count": 60,
     "metadata": {},
     "output_type": "execute_result"
    },
    {
     "data": {
      "image/png": "[encoded data removed]",
      "text/plain": [
       "<Figure size 432x288 with 1 Axes>"
      ]
     },
     "metadata": {},
     "output_type": "display_data"
    }
   ],
   "source": [
    "sns.set_style(style='white')\n",
    "ax = sns.boxplot(x=\"TYPE\", y=\"FEE1_INDISTRICT_UG\", data=data,palette=\"Set3\",linewidth =1.75)\n",
    "plt.xlabel('TYPE', fontsize=14)\n",
    "plt.ylabel('Dollars', fontsize=14)\n",
    "plt.title('Average Fee', fontsize=14)\n",
    "plt.plot()"
   ]
  },
  {
   "cell_type": "code",
   "execution_count": 61,
   "id": "1bb18b83",
   "metadata": {},
   "outputs": [
    {
     "data": {
      "text/plain": [
       "[]"
      ]
     },
     "execution_count": 61,
     "metadata": {},
     "output_type": "execute_result"
    },
    {
     "data": {
      "image/png": "[encoded data removed]",
      "text/plain": [
       "<Figure size 432x288 with 1 Axes>"
      ]
     },
     "metadata": {},
     "output_type": "display_data"
    }
   ],
   "source": [
    "sns.set_style(style='white')\n",
    "ax = sns.boxplot(x=\"TYPE\", y=\"NUM_APPS_ADMIT\", data=data,palette=\"Set3\",linewidth =1.75)\n",
    "plt.xlabel('TYPE', fontsize=14)\n",
    "plt.ylabel('Dollars', fontsize=14)\n",
    "plt.title('Average Fee', fontsize=14)\n",
    "plt.plot()"
   ]
  },
  {
   "cell_type": "code",
   "execution_count": 62,
   "id": "cdc54a0c",
   "metadata": {},
   "outputs": [
    {
     "data": {
      "text/plain": [
       "[]"
      ]
     },
     "execution_count": 62,
     "metadata": {},
     "output_type": "execute_result"
    },
    {
     "data": {
      "image/png": "[encoded data removed]",
      "text/plain": [
       "<Figure size 432x288 with 1 Axes>"
      ]
     },
     "metadata": {},
     "output_type": "display_data"
    }
   ],
   "source": [
    "sns.set_style(style='white')\n",
    "ax = sns.boxplot(x=\"TYPE\", y=\"TOTAL_AMOUNT_PELL_TOUG\", data=data,palette=\"Set3\",linewidth =1.75)\n",
    "plt.xlabel('TYPE', fontsize=14)\n",
    "plt.ylabel('Dollars', fontsize=14)\n",
    "plt.title('Average Fee', fontsize=14)\n",
    "plt.plot()"
   ]
  },
  {
   "cell_type": "code",
   "execution_count": 63,
   "id": "e5a32e0a",
   "metadata": {},
   "outputs": [
    {
     "data": {
      "text/plain": [
       "[]"
      ]
     },
     "execution_count": 63,
     "metadata": {},
     "output_type": "execute_result"
    },
    {
     "data": {
      "image/png": "[encoded data removed]",
      "text/plain": [
       "<Figure size 432x288 with 1 Axes>"
      ]
     },
     "metadata": {},
     "output_type": "display_data"
    }
   ],
   "source": [
    "sns.set_style(style='white')\n",
    "ax = sns.boxplot(x=\"TYPE\", y=\"TOTAL_SPENT_ACADEMICSUPP\", data=data,palette=\"Set3\",linewidth =1.75)\n",
    "plt.xlabel('TYPE', fontsize=14)\n",
    "plt.ylabel('Dollars', fontsize=14)\n",
    "plt.title('Average Fee', fontsize=14)\n",
    "plt.plot()"
   ]
  },
  {
   "cell_type": "code",
   "execution_count": 64,
   "id": "4b79abd0",
   "metadata": {},
   "outputs": [
    {
     "data": {
      "text/plain": [
       "[]"
      ]
     },
     "execution_count": 64,
     "metadata": {},
     "output_type": "execute_result"
    },
    {
     "data": {
      "image/png": "[encoded data removed]",
      "text/plain": [
       "<Figure size 432x288 with 1 Axes>"
      ]
     },
     "metadata": {},
     "output_type": "display_data"
    }
   ],
   "source": [
    "sns.set_style(style='white')\n",
    "ax = sns.boxplot(x=\"TYPE\", y='TOTAL_SPENT_STUDENTSS', data=data,palette=\"Set3\",linewidth =1.75)\n",
    "plt.xlabel('TYPE', fontsize=14)\n",
    "plt.ylabel('Dollars', fontsize=14)\n",
    "plt.title('Average Fee', fontsize=14)\n",
    "plt.plot()"
   ]
  },
  {
   "cell_type": "code",
   "execution_count": 65,
   "id": "e26883b9",
   "metadata": {},
   "outputs": [
    {
     "data": {
      "text/plain": [
       "[]"
      ]
     },
     "execution_count": 65,
     "metadata": {},
     "output_type": "execute_result"
    },
    {
     "data": {
      "image/png": "[encoded data removed]",
      "text/plain": [
       "<Figure size 432x288 with 1 Axes>"
      ]
     },
     "metadata": {},
     "output_type": "display_data"
    }
   ],
   "source": [
    "sns.set_style(style='white')\n",
    "ax = sns.boxplot(x=\"TYPE\", y='STATEGRANT', data=data,palette=\"Set3\",linewidth =1.75)\n",
    "plt.xlabel('TYPE', fontsize=14)\n",
    "plt.ylabel('Dollars', fontsize=14)\n",
    "plt.title('Average Fee', fontsize=14)\n",
    "plt.plot()"
   ]
  },
  {
   "cell_type": "code",
   "execution_count": 66,
   "id": "f7d82cd5",
   "metadata": {},
   "outputs": [
    {
     "data": {
      "text/plain": [
       "[]"
      ]
     },
     "execution_count": 66,
     "metadata": {},
     "output_type": "execute_result"
    },
    {
     "data": {
      "image/png": "[encoded data removed]",
      "text/plain": [
       "<Figure size 432x288 with 1 Axes>"
      ]
     },
     "metadata": {},
     "output_type": "display_data"
    }
   ],
   "source": [
    "sns.set_style(style='white')\n",
    "ax = sns.boxplot(x=\"TYPE\", y='LOCAL_GRANT', data=data,palette=\"Set3\",linewidth =1.75)\n",
    "plt.xlabel('TYPE', fontsize=14)\n",
    "plt.ylabel('Dollars', fontsize=14)\n",
    "plt.title('Average Fee', fontsize=14)\n",
    "plt.plot()"
   ]
  },
  {
   "cell_type": "markdown",
   "id": "52176e8a",
   "metadata": {},
   "source": [
    "# REGION"
   ]
  },
  {
   "cell_type": "code",
   "execution_count": 67,
   "id": "ba08a80f",
   "metadata": {},
   "outputs": [
    {
     "data": {
      "text/plain": [
       "[]"
      ]
     },
     "execution_count": 67,
     "metadata": {},
     "output_type": "execute_result"
    },
    {
     "data": {
      "image/png": "[encoded data removed]",
      "text/plain": [
       "<Figure size 432x288 with 1 Axes>"
      ]
     },
     "metadata": {},
     "output_type": "display_data"
    }
   ],
   "source": [
    "sns.set_style(style='white')\n",
    "ax = sns.boxplot(x=\"TYPE\", y=\"TUITION1_INDISTRICT_UG\", data=data,palette=\"Set3\",linewidth =1.75)\n",
    "plt.xlabel('STATE', fontsize=14)\n",
    "plt.ylabel('Dollars', fontsize=14)\n",
    "plt.title('Average Tuition Amount', fontsize=14)\n",
    "plt.plot()"
   ]
  },
  {
   "cell_type": "code",
   "execution_count": 68,
   "id": "18e36a2b",
   "metadata": {},
   "outputs": [
    {
     "data": {
      "text/plain": [
       "[]"
      ]
     },
     "execution_count": 68,
     "metadata": {},
     "output_type": "execute_result"
    },
    {
     "data": {
      "image/png": "[encoded data removed]",
      "text/plain": [
       "<Figure size 432x288 with 1 Axes>"
      ]
     },
     "metadata": {},
     "output_type": "display_data"
    }
   ],
   "source": [
    "sns.set_style(style='white')\n",
    "ax = sns.boxplot(x=\"TYPE\", y=\"FEE1_INDISTRICT_UG\", data=data,palette=\"Set3\",linewidth =1.75)\n",
    "plt.xlabel('STATE', fontsize=14)\n",
    "plt.ylabel('Dollars', fontsize=14)\n",
    "plt.title('Average Fee', fontsize=14)\n",
    "plt.plot()"
   ]
  },
  {
   "cell_type": "code",
   "execution_count": 69,
   "id": "235f4b92",
   "metadata": {},
   "outputs": [
    {
     "data": {
      "text/plain": [
       "[]"
      ]
     },
     "execution_count": 69,
     "metadata": {},
     "output_type": "execute_result"
    },
    {
     "data": {
      "image/png": "[encoded data removed]",
      "text/plain": [
       "<Figure size 432x288 with 1 Axes>"
      ]
     },
     "metadata": {},
     "output_type": "display_data"
    }
   ],
   "source": [
    "sns.set_style(style='white')\n",
    "ax = sns.boxplot(x=\"TYPE\", y=\"NUM_APPS_ADMIT\", data=data,palette=\"Set3\",linewidth =1.75)\n",
    "plt.xlabel('STATE', fontsize=14)\n",
    "plt.ylabel('Dollars', fontsize=14)\n",
    "plt.title('Average Fee', fontsize=14)\n",
    "plt.plot()"
   ]
  },
  {
   "cell_type": "code",
   "execution_count": 70,
   "id": "a40d322b",
   "metadata": {},
   "outputs": [
    {
     "data": {
      "text/plain": [
       "[]"
      ]
     },
     "execution_count": 70,
     "metadata": {},
     "output_type": "execute_result"
    },
    {
     "data": {
      "image/png": "[encoded data removed]",
      "text/plain": [
       "<Figure size 432x288 with 1 Axes>"
      ]
     },
     "metadata": {},
     "output_type": "display_data"
    }
   ],
   "source": [
    "sns.set_style(style='white')\n",
    "ax = sns.boxplot(x=\"TYPE\", y=\"TOTAL_SPENT_ACADEMICSUPP\", data=data,palette=\"Set3\",linewidth =1.75)\n",
    "plt.xlabel('STATE', fontsize=14)\n",
    "plt.ylabel('Dollars', fontsize=14)\n",
    "plt.title('Average Fee', fontsize=14)\n",
    "plt.plot()"
   ]
  },
  {
   "cell_type": "code",
   "execution_count": 71,
   "id": "fbca5bcf",
   "metadata": {},
   "outputs": [
    {
     "data": {
      "text/plain": [
       "[]"
      ]
     },
     "execution_count": 71,
     "metadata": {},
     "output_type": "execute_result"
    },
    {
     "data": {
      "image/png": "[encoded data removed]",
      "text/plain": [
       "<Figure size 432x288 with 1 Axes>"
      ]
     },
     "metadata": {},
     "output_type": "display_data"
    }
   ],
   "source": [
    "sns.set_style(style='white')\n",
    "ax = sns.boxplot(x=\"TYPE\", y=\"TOTAL_SPENT_ACADEMICSUPP\", data=data,palette=\"Set3\",linewidth =1.75)\n",
    "plt.xlabel('STATE', fontsize=14)\n",
    "plt.ylabel('Dollars', fontsize=14)\n",
    "plt.title('Average Fee', fontsize=14)\n",
    "plt.plot()"
   ]
  },
  {
   "cell_type": "code",
   "execution_count": 72,
   "id": "1b4574a5",
   "metadata": {},
   "outputs": [
    {
     "data": {
      "text/plain": [
       "[]"
      ]
     },
     "execution_count": 72,
     "metadata": {},
     "output_type": "execute_result"
    },
    {
     "data": {
      "image/png": "[encoded data removed]",
      "text/plain": [
       "<Figure size 432x288 with 1 Axes>"
      ]
     },
     "metadata": {},
     "output_type": "display_data"
    }
   ],
   "source": [
    "sns.set_style(style='white')\n",
    "ax = sns.boxplot(x=\"TYPE\", y='TOTAL_SPENT_STUDENTSS', data=data,palette=\"Set3\",linewidth =1.75)\n",
    "plt.xlabel('STATE', fontsize=14)\n",
    "plt.ylabel('Dollars', fontsize=14)\n",
    "plt.title('Average Fee', fontsize=14)\n",
    "plt.plot()"
   ]
  },
  {
   "cell_type": "code",
   "execution_count": 73,
   "id": "1d443cc2",
   "metadata": {},
   "outputs": [
    {
     "data": {
      "text/plain": [
       "[]"
      ]
     },
     "execution_count": 73,
     "metadata": {},
     "output_type": "execute_result"
    },
    {
     "data": {
      "image/png": "[encoded data removed]",
      "text/plain": [
       "<Figure size 432x288 with 1 Axes>"
      ]
     },
     "metadata": {},
     "output_type": "display_data"
    }
   ],
   "source": [
    "sns.set_style(style='white')\n",
    "ax = sns.boxplot(x=\"TYPE\", y='STATEGRANT', data=data,palette=\"Set3\",linewidth =1.75)\n",
    "plt.xlabel('STATE', fontsize=14)\n",
    "plt.ylabel('Dollars', fontsize=14)\n",
    "plt.title('Average Fee', fontsize=14)\n",
    "plt.plot()"
   ]
  },
  {
   "cell_type": "code",
   "execution_count": 74,
   "id": "7388dcef",
   "metadata": {},
   "outputs": [
    {
     "data": {
      "text/plain": [
       "[]"
      ]
     },
     "execution_count": 74,
     "metadata": {},
     "output_type": "execute_result"
    },
    {
     "data": {
      "image/png": "[encoded data removed]",
      "text/plain": [
       "<Figure size 432x288 with 1 Axes>"
      ]
     },
     "metadata": {},
     "output_type": "display_data"
    }
   ],
   "source": [
    "sns.set_style(style='white')\n",
    "ax = sns.boxplot(x=\"STATE\", y='LOCAL_GRANT', data=data,palette=\"Set3\",linewidth =1.75)\n",
    "plt.xlabel('TYPE', fontsize=14)\n",
    "plt.ylabel('Dollars', fontsize=14)\n",
    "plt.title('Average Fee', fontsize=14)\n",
    "plt.plot()"
   ]
  },
  {
   "cell_type": "markdown",
   "id": "61bd4ca2",
   "metadata": {},
   "source": [
    "# DONE"
   ]
  },
  {
   "cell_type": "markdown",
   "id": "e73979a0",
   "metadata": {},
   "source": [
    "sns.set_style(style='white')\n",
    "ax = sns.violinplot(x=\"FORPROFIT\", y=\"TUITION1_INDISTRICT_UG\", data=data,palette=\"Set3\",inner=\"box\",linewidth =1.75)\n",
    "fig.set_size_inches(20, 15)\n",
    "plt.xlabel('For Profit', fontsize=16)\n",
    "plt.ylabel('Dollars', fontsize=16)\n",
    "plt.title('Average Tuition Amount', fontsize=16)\n",
    "plt.plot()"
   ]
  }
 ],
 "metadata": {
  "kernelspec": {
   "display_name": "Python 3",
   "language": "python",
   "name": "python3"
  },
  "language_info": {
   "codemirror_mode": {
    "name": "ipython",
    "version": 3
   },
   "file_extension": ".py",
   "mimetype": "text/x-python",
   "name": "python",
   "nbconvert_exporter": "python",
   "pygments_lexer": "ipython3",
   "version": "3.8.8"
  }
 },
 "nbformat": 4,
 "nbformat_minor": 5
}
